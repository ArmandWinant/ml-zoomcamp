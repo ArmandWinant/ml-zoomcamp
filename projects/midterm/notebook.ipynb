{
 "cells": [
  {
   "cell_type": "code",
   "execution_count": 372,
   "metadata": {},
   "outputs": [],
   "source": [
    "import numpy as np\n",
    "import pandas as pd\n",
    "from dbfread import DBF"
   ]
  },
  {
   "cell_type": "markdown",
   "metadata": {},
   "source": [
    "## Data Import"
   ]
  },
  {
   "cell_type": "code",
   "execution_count": 373,
   "metadata": {},
   "outputs": [],
   "source": [
    "def read_dbf(filename: str) -> pd.DataFrame:\n",
    "  return pd.DataFrame(DBF(filename))"
   ]
  },
  {
   "cell_type": "code",
   "execution_count": 374,
   "metadata": {},
   "outputs": [],
   "source": [
    "# MEMBERS\n",
    "df_members = read_dbf('./data/members.DBF')\n",
    "\n",
    "# EXPEDITIONS\n",
    "df_exped = read_dbf('./data/exped.DBF')\n",
    "\n",
    "# PEAKS\n",
    "df_peaks = read_dbf('./data/peaks.DBF')"
   ]
  },
  {
   "cell_type": "markdown",
   "metadata": {},
   "source": [
    "## Data Cleaning"
   ]
  },
  {
   "cell_type": "code",
   "execution_count": 375,
   "metadata": {},
   "outputs": [],
   "source": [
    "def standardize_colnames(df: pd.DataFrame) -> pd.DataFrame:\n",
    "  df.columns = df.columns.str.lower()"
   ]
  },
  {
   "cell_type": "markdown",
   "metadata": {},
   "source": [
    "### Members"
   ]
  },
  {
   "cell_type": "code",
   "execution_count": 376,
   "metadata": {},
   "outputs": [
    {
     "data": {
      "text/html": [
       "<div>\n",
       "<style scoped>\n",
       "    .dataframe tbody tr th:only-of-type {\n",
       "        vertical-align: middle;\n",
       "    }\n",
       "\n",
       "    .dataframe tbody tr th {\n",
       "        vertical-align: top;\n",
       "    }\n",
       "\n",
       "    .dataframe thead th {\n",
       "        text-align: right;\n",
       "    }\n",
       "</style>\n",
       "<table border=\"1\" class=\"dataframe\">\n",
       "  <thead>\n",
       "    <tr style=\"text-align: right;\">\n",
       "      <th></th>\n",
       "      <th>EXPID</th>\n",
       "      <th>MEMBID</th>\n",
       "      <th>PEAKID</th>\n",
       "      <th>MYEAR</th>\n",
       "      <th>MSEASON</th>\n",
       "      <th>FNAME</th>\n",
       "      <th>LNAME</th>\n",
       "      <th>SEX</th>\n",
       "      <th>AGE</th>\n",
       "      <th>BIRTHDATE</th>\n",
       "      <th>...</th>\n",
       "      <th>MEMBERMEMO</th>\n",
       "      <th>NECROLOGY</th>\n",
       "      <th>MSMTBID</th>\n",
       "      <th>MSMTTERM</th>\n",
       "      <th>HCN</th>\n",
       "      <th>MCHKSUM</th>\n",
       "      <th>MSMTNOTE1</th>\n",
       "      <th>MSMTNOTE2</th>\n",
       "      <th>MSMTNOTE3</th>\n",
       "      <th>DEATHRTE</th>\n",
       "    </tr>\n",
       "  </thead>\n",
       "  <tbody>\n",
       "    <tr>\n",
       "      <th>0</th>\n",
       "      <td>AMAD78301</td>\n",
       "      <td>01</td>\n",
       "      <td>AMAD</td>\n",
       "      <td>1978</td>\n",
       "      <td>3</td>\n",
       "      <td>Jean Robert</td>\n",
       "      <td>Clemenson</td>\n",
       "      <td>M</td>\n",
       "      <td>0</td>\n",
       "      <td>None</td>\n",
       "      <td>...</td>\n",
       "      <td>None</td>\n",
       "      <td>None</td>\n",
       "      <td>1</td>\n",
       "      <td>4</td>\n",
       "      <td>0</td>\n",
       "      <td>2426937</td>\n",
       "      <td>NaN</td>\n",
       "      <td>NaN</td>\n",
       "      <td>NaN</td>\n",
       "      <td>NaN</td>\n",
       "    </tr>\n",
       "    <tr>\n",
       "      <th>1</th>\n",
       "      <td>AMAD78301</td>\n",
       "      <td>02</td>\n",
       "      <td>AMAD</td>\n",
       "      <td>1978</td>\n",
       "      <td>3</td>\n",
       "      <td>Bernard</td>\n",
       "      <td>Dufour</td>\n",
       "      <td>M</td>\n",
       "      <td>0</td>\n",
       "      <td>None</td>\n",
       "      <td>...</td>\n",
       "      <td>None</td>\n",
       "      <td>None</td>\n",
       "      <td>1</td>\n",
       "      <td>4</td>\n",
       "      <td>0</td>\n",
       "      <td>2426501</td>\n",
       "      <td>NaN</td>\n",
       "      <td>NaN</td>\n",
       "      <td>NaN</td>\n",
       "      <td>NaN</td>\n",
       "    </tr>\n",
       "    <tr>\n",
       "      <th>2</th>\n",
       "      <td>AMAD78301</td>\n",
       "      <td>03</td>\n",
       "      <td>AMAD</td>\n",
       "      <td>1978</td>\n",
       "      <td>3</td>\n",
       "      <td>Philippe</td>\n",
       "      <td>Gerard</td>\n",
       "      <td>M</td>\n",
       "      <td>0</td>\n",
       "      <td>None</td>\n",
       "      <td>...</td>\n",
       "      <td>None</td>\n",
       "      <td>None</td>\n",
       "      <td>1</td>\n",
       "      <td>4</td>\n",
       "      <td>0</td>\n",
       "      <td>2431569</td>\n",
       "      <td>NaN</td>\n",
       "      <td>NaN</td>\n",
       "      <td>NaN</td>\n",
       "      <td>NaN</td>\n",
       "    </tr>\n",
       "    <tr>\n",
       "      <th>3</th>\n",
       "      <td>AMAD78301</td>\n",
       "      <td>04</td>\n",
       "      <td>AMAD</td>\n",
       "      <td>1978</td>\n",
       "      <td>3</td>\n",
       "      <td>Eric</td>\n",
       "      <td>Lasserre</td>\n",
       "      <td>M</td>\n",
       "      <td>0</td>\n",
       "      <td>None</td>\n",
       "      <td>...</td>\n",
       "      <td>None</td>\n",
       "      <td>None</td>\n",
       "      <td>1</td>\n",
       "      <td>4</td>\n",
       "      <td>0</td>\n",
       "      <td>2426809</td>\n",
       "      <td>NaN</td>\n",
       "      <td>NaN</td>\n",
       "      <td>NaN</td>\n",
       "      <td>NaN</td>\n",
       "    </tr>\n",
       "    <tr>\n",
       "      <th>4</th>\n",
       "      <td>AMAD78301</td>\n",
       "      <td>05</td>\n",
       "      <td>AMAD</td>\n",
       "      <td>1978</td>\n",
       "      <td>3</td>\n",
       "      <td>Guy</td>\n",
       "      <td>Peters</td>\n",
       "      <td>M</td>\n",
       "      <td>0</td>\n",
       "      <td>None</td>\n",
       "      <td>...</td>\n",
       "      <td>None</td>\n",
       "      <td>None</td>\n",
       "      <td>1</td>\n",
       "      <td>4</td>\n",
       "      <td>0</td>\n",
       "      <td>2429215</td>\n",
       "      <td>NaN</td>\n",
       "      <td>NaN</td>\n",
       "      <td>NaN</td>\n",
       "      <td>NaN</td>\n",
       "    </tr>\n",
       "  </tbody>\n",
       "</table>\n",
       "<p>5 rows × 78 columns</p>\n",
       "</div>"
      ],
      "text/plain": [
       "       EXPID MEMBID PEAKID MYEAR  MSEASON        FNAME      LNAME SEX  AGE  \\\n",
       "0  AMAD78301     01   AMAD  1978        3  Jean Robert  Clemenson   M    0   \n",
       "1  AMAD78301     02   AMAD  1978        3      Bernard     Dufour   M    0   \n",
       "2  AMAD78301     03   AMAD  1978        3     Philippe     Gerard   M    0   \n",
       "3  AMAD78301     04   AMAD  1978        3         Eric   Lasserre   M    0   \n",
       "4  AMAD78301     05   AMAD  1978        3          Guy     Peters   M    0   \n",
       "\n",
       "  BIRTHDATE  ... MEMBERMEMO  NECROLOGY MSMTBID MSMTTERM HCN  MCHKSUM  \\\n",
       "0      None  ...       None       None       1        4   0  2426937   \n",
       "1      None  ...       None       None       1        4   0  2426501   \n",
       "2      None  ...       None       None       1        4   0  2431569   \n",
       "3      None  ...       None       None       1        4   0  2426809   \n",
       "4      None  ...       None       None       1        4   0  2429215   \n",
       "\n",
       "   MSMTNOTE1  MSMTNOTE2  MSMTNOTE3  DEATHRTE  \n",
       "0        NaN        NaN        NaN       NaN  \n",
       "1        NaN        NaN        NaN       NaN  \n",
       "2        NaN        NaN        NaN       NaN  \n",
       "3        NaN        NaN        NaN       NaN  \n",
       "4        NaN        NaN        NaN       NaN  \n",
       "\n",
       "[5 rows x 78 columns]"
      ]
     },
     "execution_count": 376,
     "metadata": {},
     "output_type": "execute_result"
    }
   ],
   "source": [
    "df_members.head()"
   ]
  },
  {
   "cell_type": "code",
   "execution_count": 377,
   "metadata": {},
   "outputs": [],
   "source": [
    "standardize_colnames(df_members)"
   ]
  },
  {
   "cell_type": "code",
   "execution_count": 378,
   "metadata": {},
   "outputs": [],
   "source": [
    "column_list = df_members.columns.to_list()"
   ]
  },
  {
   "cell_type": "code",
   "execution_count": 379,
   "metadata": {},
   "outputs": [
    {
     "data": {
      "text/plain": [
       "['expid',\n",
       " 'membid',\n",
       " 'peakid',\n",
       " 'myear',\n",
       " 'mseason',\n",
       " 'fname',\n",
       " 'lname',\n",
       " 'sex',\n",
       " 'age',\n",
       " 'birthdate',\n",
       " 'yob',\n",
       " 'calcage',\n",
       " 'citizen',\n",
       " 'status',\n",
       " 'residence',\n",
       " 'occupation',\n",
       " 'leader',\n",
       " 'deputy',\n",
       " 'bconly',\n",
       " 'nottobc',\n",
       " 'support',\n",
       " 'disabled',\n",
       " 'hired',\n",
       " 'sherpa',\n",
       " 'tibetan',\n",
       " 'msuccess',\n",
       " 'mclaimed',\n",
       " 'mdisputed',\n",
       " 'msolo',\n",
       " 'mtraverse',\n",
       " 'mski',\n",
       " 'mparapente',\n",
       " 'mspeed',\n",
       " 'mhighpt',\n",
       " 'mperhighpt',\n",
       " 'msmtdate1',\n",
       " 'msmtdate2',\n",
       " 'msmtdate3',\n",
       " 'msmttime1',\n",
       " 'msmttime2',\n",
       " 'msmttime3',\n",
       " 'mroute1',\n",
       " 'mroute2',\n",
       " 'mroute3',\n",
       " 'mascent1',\n",
       " 'mascent2',\n",
       " 'mascent3',\n",
       " 'mo2used',\n",
       " 'mo2none',\n",
       " 'mo2climb',\n",
       " 'mo2descent',\n",
       " 'mo2sleep',\n",
       " 'mo2medical',\n",
       " 'mo2note',\n",
       " 'death',\n",
       " 'deathdate',\n",
       " 'deathtime',\n",
       " 'deathtype',\n",
       " 'deathhgtm',\n",
       " 'deathclass',\n",
       " 'ams',\n",
       " 'weather',\n",
       " 'injury',\n",
       " 'injurydate',\n",
       " 'injurytime',\n",
       " 'injurytype',\n",
       " 'injuryhgtm',\n",
       " 'deathnote',\n",
       " 'membermemo',\n",
       " 'necrology',\n",
       " 'msmtbid',\n",
       " 'msmtterm',\n",
       " 'hcn',\n",
       " 'mchksum',\n",
       " 'msmtnote1',\n",
       " 'msmtnote2',\n",
       " 'msmtnote3',\n",
       " 'deathrte']"
      ]
     },
     "execution_count": 379,
     "metadata": {},
     "output_type": "execute_result"
    }
   ],
   "source": [
    "column_list"
   ]
  },
  {
   "cell_type": "code",
   "execution_count": 380,
   "metadata": {},
   "outputs": [],
   "source": [
    "col_list = [\n",
    "  # ID COLUMNS\n",
    "  'expid',\n",
    "  'membid',\n",
    "  'peakid',\n",
    "  # EXPEDITION START TIME\n",
    "  'myear',\n",
    "  'mseason',\n",
    "  # MEMBER DETAILS\n",
    "  # 'fname',\n",
    "  # 'lname',\n",
    "  'sex',\n",
    "  # 'age',\n",
    "  # 'birthdate',\n",
    "  # 'yob',\n",
    "  'calcage',\n",
    "  # 'citizen',\n",
    "  'status',\n",
    "  # 'residence',\n",
    "  'occupation',\n",
    "  # MEMBER ROLE\n",
    "  'leader',\n",
    "  'deputy',\n",
    "  'bconly',\n",
    "  'nottobc',\n",
    "  'support',\n",
    "  'disabled',\n",
    "  'hired',\n",
    "  'sherpa',\n",
    "  'tibetan',\n",
    "  # EXPEDITION OUTCOME\n",
    "  'msuccess',\n",
    "  # 'mclaimed',\n",
    "  # 'mdisputed',\n",
    "  # EXPEDITION TYPE\n",
    "  'msolo',\n",
    "  'mtraverse',\n",
    "  'mski',\n",
    "  'mparapente',\n",
    "  'mspeed',\n",
    "  # HIGHPOINT\n",
    "  # 'mhighpt', # expedition highpoint reached\n",
    "  # 'mperhighpt', # personal highpoint\n",
    "  # SUMMIT DATE/TIME\n",
    "  # 'msmtdate1',\n",
    "  # 'msmtdate2',\n",
    "  # 'msmtdate3',\n",
    "  # 'msmttime1',\n",
    "  # 'msmttime2',\n",
    "  # 'msmttime3',\n",
    "  # ASCENT ROUTE\n",
    "  # 'mroute1',\n",
    "  # 'mroute2',\n",
    "  # 'mroute3',\n",
    "  # 'mascent1',\n",
    "  # 'mascent2',\n",
    "  # 'mascent3',\n",
    "  # OXYGEN USE\n",
    "  # 'mo2used',\n",
    "  # 'mo2none',\n",
    "  # 'mo2climb',\n",
    "  # 'mo2descent',\n",
    "  # 'mo2sleep',\n",
    "  # 'mo2medical',\n",
    "  # 'mo2note',\n",
    "  # CLIMBER DEATH\n",
    "  # 'death',\n",
    "  # 'deathdate',\n",
    "  # 'deathtime',\n",
    "  # 'deathtype',\n",
    "  # 'deathhgtm',\n",
    "  # 'deathclass',\n",
    "  # 'ams',\n",
    "  # 'weather',\n",
    "  # CLIMBER INJURY\n",
    "  # 'injury',\n",
    "  # 'injurydate',\n",
    "  # 'injurytime',\n",
    "  # 'injurytype',\n",
    "  # 'injuryhgtm',\n",
    "  # 'deathnote',\n",
    "  # 'membermemo',\n",
    "  # 'necrology',\n",
    "  # SUMMIT BID\n",
    "  'msmtbid',\n",
    "  'msmtterm',\n",
    "  # 'hcn',\n",
    "  # 'mchksum',\n",
    "  # 'msmtnote1',\n",
    "  # 'msmtnote2',\n",
    "  # 'msmtnote3',\n",
    "  # 'deathrte'\n",
    "]"
   ]
  },
  {
   "cell_type": "code",
   "execution_count": 381,
   "metadata": {},
   "outputs": [],
   "source": [
    "df_members = df_members[col_list]"
   ]
  },
  {
   "cell_type": "code",
   "execution_count": 382,
   "metadata": {},
   "outputs": [
    {
     "data": {
      "text/plain": [
       "(87156, 26)"
      ]
     },
     "execution_count": 382,
     "metadata": {},
     "output_type": "execute_result"
    }
   ],
   "source": [
    "df_members.shape"
   ]
  },
  {
   "cell_type": "code",
   "execution_count": 383,
   "metadata": {},
   "outputs": [],
   "source": [
    "df_members = df_members.loc[\n",
    "  (df_members.bconly == False) &\n",
    "  (df_members.nottobc == False) &\n",
    "  (df_members.support == False) &\n",
    "  (df_members.hired == False) &\n",
    "  (df_members.sherpa == False) &\n",
    "  (df_members.tibetan == False)\n",
    "]"
   ]
  },
  {
   "cell_type": "code",
   "execution_count": 384,
   "metadata": {},
   "outputs": [],
   "source": [
    "df_members.drop(['bconly', 'nottobc', 'support', 'disabled', 'hired', 'sherpa', 'tibetan'], axis=1, inplace=True)"
   ]
  },
  {
   "cell_type": "code",
   "execution_count": 385,
   "metadata": {},
   "outputs": [
    {
     "data": {
      "text/plain": [
       "(60585, 19)"
      ]
     },
     "execution_count": 385,
     "metadata": {},
     "output_type": "execute_result"
    }
   ],
   "source": [
    "df_members.shape"
   ]
  },
  {
   "cell_type": "code",
   "execution_count": 386,
   "metadata": {},
   "outputs": [],
   "source": [
    "df_members = df_members.loc[\n",
    "  (df_members.mtraverse == False) &\n",
    "  (df_members.mski == False) &\n",
    "  (df_members.mparapente == False) &\n",
    "  (df_members.mspeed == False),\n",
    "  :\n",
    "]"
   ]
  },
  {
   "cell_type": "code",
   "execution_count": 387,
   "metadata": {},
   "outputs": [],
   "source": [
    "df_members.drop(['mtraverse', 'mski', 'mparapente', 'mspeed'], axis=1, inplace=True)"
   ]
  },
  {
   "cell_type": "code",
   "execution_count": 388,
   "metadata": {},
   "outputs": [
    {
     "data": {
      "text/plain": [
       "(25731, 15)"
      ]
     },
     "execution_count": 388,
     "metadata": {},
     "output_type": "execute_result"
    }
   ],
   "source": [
    "df_members.shape"
   ]
  },
  {
   "cell_type": "code",
   "execution_count": 389,
   "metadata": {},
   "outputs": [
    {
     "data": {
      "text/html": [
       "<div>\n",
       "<style scoped>\n",
       "    .dataframe tbody tr th:only-of-type {\n",
       "        vertical-align: middle;\n",
       "    }\n",
       "\n",
       "    .dataframe tbody tr th {\n",
       "        vertical-align: top;\n",
       "    }\n",
       "\n",
       "    .dataframe thead th {\n",
       "        text-align: right;\n",
       "    }\n",
       "</style>\n",
       "<table border=\"1\" class=\"dataframe\">\n",
       "  <thead>\n",
       "    <tr style=\"text-align: right;\">\n",
       "      <th></th>\n",
       "      <th>expid</th>\n",
       "      <th>membid</th>\n",
       "      <th>peakid</th>\n",
       "      <th>myear</th>\n",
       "      <th>mseason</th>\n",
       "      <th>sex</th>\n",
       "      <th>calcage</th>\n",
       "      <th>status</th>\n",
       "      <th>occupation</th>\n",
       "      <th>leader</th>\n",
       "      <th>deputy</th>\n",
       "      <th>msuccess</th>\n",
       "      <th>msolo</th>\n",
       "      <th>msmtbid</th>\n",
       "      <th>msmtterm</th>\n",
       "    </tr>\n",
       "  </thead>\n",
       "  <tbody>\n",
       "    <tr>\n",
       "      <th>56</th>\n",
       "      <td>AMAD79303</td>\n",
       "      <td>03</td>\n",
       "      <td>AMAD</td>\n",
       "      <td>1979</td>\n",
       "      <td>3</td>\n",
       "      <td>M</td>\n",
       "      <td>35</td>\n",
       "      <td>Climber</td>\n",
       "      <td>Alpine guide</td>\n",
       "      <td>False</td>\n",
       "      <td>False</td>\n",
       "      <td>False</td>\n",
       "      <td>False</td>\n",
       "      <td>1</td>\n",
       "      <td>14</td>\n",
       "    </tr>\n",
       "    <tr>\n",
       "      <th>192</th>\n",
       "      <td>AMAD85101</td>\n",
       "      <td>02</td>\n",
       "      <td>AMAD</td>\n",
       "      <td>1985</td>\n",
       "      <td>1</td>\n",
       "      <td>M</td>\n",
       "      <td>20</td>\n",
       "      <td>Climber</td>\n",
       "      <td>Student, commercial school</td>\n",
       "      <td>False</td>\n",
       "      <td>False</td>\n",
       "      <td>True</td>\n",
       "      <td>False</td>\n",
       "      <td>5</td>\n",
       "      <td>1</td>\n",
       "    </tr>\n",
       "    <tr>\n",
       "      <th>209</th>\n",
       "      <td>AMAD85301</td>\n",
       "      <td>07</td>\n",
       "      <td>AMAD</td>\n",
       "      <td>1985</td>\n",
       "      <td>3</td>\n",
       "      <td>M</td>\n",
       "      <td>28</td>\n",
       "      <td>Climber</td>\n",
       "      <td>Alpine guide</td>\n",
       "      <td>False</td>\n",
       "      <td>False</td>\n",
       "      <td>True</td>\n",
       "      <td>False</td>\n",
       "      <td>5</td>\n",
       "      <td>1</td>\n",
       "    </tr>\n",
       "    <tr>\n",
       "      <th>213</th>\n",
       "      <td>AMAD85303</td>\n",
       "      <td>02</td>\n",
       "      <td>AMAD</td>\n",
       "      <td>1985</td>\n",
       "      <td>3</td>\n",
       "      <td>M</td>\n",
       "      <td>41</td>\n",
       "      <td>Climber</td>\n",
       "      <td>Alpine guide</td>\n",
       "      <td>False</td>\n",
       "      <td>False</td>\n",
       "      <td>True</td>\n",
       "      <td>False</td>\n",
       "      <td>5</td>\n",
       "      <td>1</td>\n",
       "    </tr>\n",
       "    <tr>\n",
       "      <th>458</th>\n",
       "      <td>AMAD90301</td>\n",
       "      <td>06</td>\n",
       "      <td>AMAD</td>\n",
       "      <td>1990</td>\n",
       "      <td>3</td>\n",
       "      <td>F</td>\n",
       "      <td>39</td>\n",
       "      <td>Climber</td>\n",
       "      <td>Secretary</td>\n",
       "      <td>False</td>\n",
       "      <td>False</td>\n",
       "      <td>False</td>\n",
       "      <td>False</td>\n",
       "      <td>1</td>\n",
       "      <td>4</td>\n",
       "    </tr>\n",
       "  </tbody>\n",
       "</table>\n",
       "</div>"
      ],
      "text/plain": [
       "         expid membid peakid myear  mseason sex  calcage   status  \\\n",
       "56   AMAD79303     03   AMAD  1979        3   M       35  Climber   \n",
       "192  AMAD85101     02   AMAD  1985        1   M       20  Climber   \n",
       "209  AMAD85301     07   AMAD  1985        3   M       28  Climber   \n",
       "213  AMAD85303     02   AMAD  1985        3   M       41  Climber   \n",
       "458  AMAD90301     06   AMAD  1990        3   F       39  Climber   \n",
       "\n",
       "                     occupation  leader  deputy  msuccess  msolo  msmtbid  \\\n",
       "56                 Alpine guide   False   False     False  False        1   \n",
       "192  Student, commercial school   False   False      True  False        5   \n",
       "209                Alpine guide   False   False      True  False        5   \n",
       "213                Alpine guide   False   False      True  False        5   \n",
       "458                   Secretary   False   False     False  False        1   \n",
       "\n",
       "     msmtterm  \n",
       "56         14  \n",
       "192         1  \n",
       "209         1  \n",
       "213         1  \n",
       "458         4  "
      ]
     },
     "execution_count": 389,
     "metadata": {},
     "output_type": "execute_result"
    }
   ],
   "source": [
    "df_members.head()"
   ]
  },
  {
   "cell_type": "code",
   "execution_count": 390,
   "metadata": {},
   "outputs": [],
   "source": [
    "df_members.status = df_members.status.str.lower()"
   ]
  },
  {
   "cell_type": "code",
   "execution_count": 391,
   "metadata": {},
   "outputs": [],
   "source": [
    "df_members = df_members.loc[\n",
    "  (df_members.status.str.contains('climb')) |\n",
    "  (df_members.status.str.contains('lead')),\n",
    "  :\n",
    "]"
   ]
  },
  {
   "cell_type": "code",
   "execution_count": 392,
   "metadata": {},
   "outputs": [],
   "source": [
    "df_members = df_members.loc[\n",
    "  (~df_members.status.str.contains('non-climber')) &\n",
    "  (~df_members.status.str.contains('ski')) &\n",
    "  (~df_members.status.str.contains('paraglider')) &\n",
    "  (~df_members.status.str.contains('camera')) &\n",
    "  (~df_members.status.str.contains('photo')) &\n",
    "  (~df_members.status.str.contains('film')) &\n",
    "  (~df_members.status.str.contains('reporter')) &\n",
    "  (~df_members.status.str.contains('journalist')) &\n",
    "  (~df_members.status.str.contains('coach')) &\n",
    "  (~df_members.status.str.contains('advisor')) &\n",
    "  (~df_members.status.str.contains('instructor')) &\n",
    "  (~df_members.status.str.contains('support')) &\n",
    "  (~df_members.status.str.contains('guide')) &\n",
    "  (~df_members.status.str.contains('only'))\n",
    "]"
   ]
  },
  {
   "cell_type": "code",
   "execution_count": 393,
   "metadata": {},
   "outputs": [
    {
     "data": {
      "text/plain": [
       "array(['climber', 'climbing leader', 'leader', 'dep climbing leader',\n",
       "       'xclimber', 'leader (n)', 'climbing ldr (n)', 'climber (n)',\n",
       "       'team leader (n)', 'leader (s)', 'climber (s)', 'team leader (s)',\n",
       "       'climbing ldr (s)', 'army leader (s)', 'co-leader',\n",
       "       'deputy ldr/climbing ldr', 'deputy leader', 'climber (s face)',\n",
       "       'climber (torch)', 'climber (torchbear 4)',\n",
       "       'climb ldr (torchbearer 2)', 'dep climbing ldr (s)',\n",
       "       'climber/bc mgr', 'leader/exp doctor', 'climber (guest)',\n",
       "       'climber (n col)', 'climber (trainee)', 'assistant leader',\n",
       "       'leader (nominal)', 'leader?', 'climber (group b)',\n",
       "       'co-leader (group b)', 'climber (group a)', 'co-leader (group a)',\n",
       "       'lhotse climber', 'climbe', 'leader (nomimal)', 'climber (pvt)',\n",
       "       'climber (lhotse)', 'climber (grp 1)', 'climber (grp 2)',\n",
       "       'climber (mm)', 'climber (css)', 'deputry leader', 'climber (xfr)',\n",
       "       'climbev', 'climber/camerman'], dtype=object)"
      ]
     },
     "execution_count": 393,
     "metadata": {},
     "output_type": "execute_result"
    }
   ],
   "source": [
    "df_members.status.unique()"
   ]
  },
  {
   "cell_type": "code",
   "execution_count": 394,
   "metadata": {},
   "outputs": [],
   "source": [
    "df_members.drop(['status'], axis=1, inplace=True)"
   ]
  },
  {
   "cell_type": "markdown",
   "metadata": {},
   "source": [
    "### Peaks"
   ]
  },
  {
   "cell_type": "markdown",
   "metadata": {},
   "source": [
    "### Expeditions"
   ]
  }
 ],
 "metadata": {
  "kernelspec": {
   "display_name": ".env",
   "language": "python",
   "name": "python3"
  },
  "language_info": {
   "codemirror_mode": {
    "name": "ipython",
    "version": 3
   },
   "file_extension": ".py",
   "mimetype": "text/x-python",
   "name": "python",
   "nbconvert_exporter": "python",
   "pygments_lexer": "ipython3",
   "version": "3.9.6"
  }
 },
 "nbformat": 4,
 "nbformat_minor": 2
}
