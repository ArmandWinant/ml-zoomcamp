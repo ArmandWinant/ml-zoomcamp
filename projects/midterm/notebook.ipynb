{
 "cells": [
  {
   "cell_type": "code",
   "execution_count": 164,
   "metadata": {},
   "outputs": [],
   "source": [
    "import numpy as np\n",
    "import pandas as pd\n",
    "from dbfread import DBF"
   ]
  },
  {
   "cell_type": "markdown",
   "metadata": {},
   "source": [
    "## Data Import"
   ]
  },
  {
   "cell_type": "code",
   "execution_count": 165,
   "metadata": {},
   "outputs": [],
   "source": [
    "def read_dbf(filename: str) -> pd.DataFrame:\n",
    "  return pd.DataFrame(DBF(filename))"
   ]
  },
  {
   "cell_type": "code",
   "execution_count": 166,
   "metadata": {},
   "outputs": [],
   "source": [
    "# MEMBERS\n",
    "df_members = read_dbf('./data/members.DBF')\n",
    "\n",
    "# EXPEDITIONS\n",
    "df_exped = read_dbf('./data/exped.DBF')\n",
    "\n",
    "# PEAKS\n",
    "df_peaks = read_dbf('./data/peaks.DBF')"
   ]
  },
  {
   "cell_type": "markdown",
   "metadata": {},
   "source": [
    "## Data Cleaning\n",
    "### Members"
   ]
  },
  {
   "cell_type": "code",
   "execution_count": 167,
   "metadata": {},
   "outputs": [
    {
     "data": {
      "text/plain": [
       "(87156, 78)"
      ]
     },
     "execution_count": 167,
     "metadata": {},
     "output_type": "execute_result"
    }
   ],
   "source": [
    "df_members.shape"
   ]
  },
  {
   "cell_type": "code",
   "execution_count": 168,
   "metadata": {},
   "outputs": [
    {
     "data": {
      "text/html": [
       "<div>\n",
       "<style scoped>\n",
       "    .dataframe tbody tr th:only-of-type {\n",
       "        vertical-align: middle;\n",
       "    }\n",
       "\n",
       "    .dataframe tbody tr th {\n",
       "        vertical-align: top;\n",
       "    }\n",
       "\n",
       "    .dataframe thead th {\n",
       "        text-align: right;\n",
       "    }\n",
       "</style>\n",
       "<table border=\"1\" class=\"dataframe\">\n",
       "  <thead>\n",
       "    <tr style=\"text-align: right;\">\n",
       "      <th></th>\n",
       "      <th>EXPID</th>\n",
       "      <th>MEMBID</th>\n",
       "      <th>PEAKID</th>\n",
       "      <th>MYEAR</th>\n",
       "      <th>MSEASON</th>\n",
       "      <th>FNAME</th>\n",
       "      <th>LNAME</th>\n",
       "      <th>SEX</th>\n",
       "      <th>AGE</th>\n",
       "      <th>BIRTHDATE</th>\n",
       "      <th>...</th>\n",
       "      <th>MEMBERMEMO</th>\n",
       "      <th>NECROLOGY</th>\n",
       "      <th>MSMTBID</th>\n",
       "      <th>MSMTTERM</th>\n",
       "      <th>HCN</th>\n",
       "      <th>MCHKSUM</th>\n",
       "      <th>MSMTNOTE1</th>\n",
       "      <th>MSMTNOTE2</th>\n",
       "      <th>MSMTNOTE3</th>\n",
       "      <th>DEATHRTE</th>\n",
       "    </tr>\n",
       "  </thead>\n",
       "  <tbody>\n",
       "    <tr>\n",
       "      <th>0</th>\n",
       "      <td>AMAD78301</td>\n",
       "      <td>01</td>\n",
       "      <td>AMAD</td>\n",
       "      <td>1978</td>\n",
       "      <td>3</td>\n",
       "      <td>Jean Robert</td>\n",
       "      <td>Clemenson</td>\n",
       "      <td>M</td>\n",
       "      <td>0</td>\n",
       "      <td>None</td>\n",
       "      <td>...</td>\n",
       "      <td>None</td>\n",
       "      <td>None</td>\n",
       "      <td>1</td>\n",
       "      <td>4</td>\n",
       "      <td>0</td>\n",
       "      <td>2426937</td>\n",
       "      <td>NaN</td>\n",
       "      <td>NaN</td>\n",
       "      <td>NaN</td>\n",
       "      <td>NaN</td>\n",
       "    </tr>\n",
       "    <tr>\n",
       "      <th>1</th>\n",
       "      <td>AMAD78301</td>\n",
       "      <td>02</td>\n",
       "      <td>AMAD</td>\n",
       "      <td>1978</td>\n",
       "      <td>3</td>\n",
       "      <td>Bernard</td>\n",
       "      <td>Dufour</td>\n",
       "      <td>M</td>\n",
       "      <td>0</td>\n",
       "      <td>None</td>\n",
       "      <td>...</td>\n",
       "      <td>None</td>\n",
       "      <td>None</td>\n",
       "      <td>1</td>\n",
       "      <td>4</td>\n",
       "      <td>0</td>\n",
       "      <td>2426501</td>\n",
       "      <td>NaN</td>\n",
       "      <td>NaN</td>\n",
       "      <td>NaN</td>\n",
       "      <td>NaN</td>\n",
       "    </tr>\n",
       "    <tr>\n",
       "      <th>2</th>\n",
       "      <td>AMAD78301</td>\n",
       "      <td>03</td>\n",
       "      <td>AMAD</td>\n",
       "      <td>1978</td>\n",
       "      <td>3</td>\n",
       "      <td>Philippe</td>\n",
       "      <td>Gerard</td>\n",
       "      <td>M</td>\n",
       "      <td>0</td>\n",
       "      <td>None</td>\n",
       "      <td>...</td>\n",
       "      <td>None</td>\n",
       "      <td>None</td>\n",
       "      <td>1</td>\n",
       "      <td>4</td>\n",
       "      <td>0</td>\n",
       "      <td>2431569</td>\n",
       "      <td>NaN</td>\n",
       "      <td>NaN</td>\n",
       "      <td>NaN</td>\n",
       "      <td>NaN</td>\n",
       "    </tr>\n",
       "    <tr>\n",
       "      <th>3</th>\n",
       "      <td>AMAD78301</td>\n",
       "      <td>04</td>\n",
       "      <td>AMAD</td>\n",
       "      <td>1978</td>\n",
       "      <td>3</td>\n",
       "      <td>Eric</td>\n",
       "      <td>Lasserre</td>\n",
       "      <td>M</td>\n",
       "      <td>0</td>\n",
       "      <td>None</td>\n",
       "      <td>...</td>\n",
       "      <td>None</td>\n",
       "      <td>None</td>\n",
       "      <td>1</td>\n",
       "      <td>4</td>\n",
       "      <td>0</td>\n",
       "      <td>2426809</td>\n",
       "      <td>NaN</td>\n",
       "      <td>NaN</td>\n",
       "      <td>NaN</td>\n",
       "      <td>NaN</td>\n",
       "    </tr>\n",
       "    <tr>\n",
       "      <th>4</th>\n",
       "      <td>AMAD78301</td>\n",
       "      <td>05</td>\n",
       "      <td>AMAD</td>\n",
       "      <td>1978</td>\n",
       "      <td>3</td>\n",
       "      <td>Guy</td>\n",
       "      <td>Peters</td>\n",
       "      <td>M</td>\n",
       "      <td>0</td>\n",
       "      <td>None</td>\n",
       "      <td>...</td>\n",
       "      <td>None</td>\n",
       "      <td>None</td>\n",
       "      <td>1</td>\n",
       "      <td>4</td>\n",
       "      <td>0</td>\n",
       "      <td>2429215</td>\n",
       "      <td>NaN</td>\n",
       "      <td>NaN</td>\n",
       "      <td>NaN</td>\n",
       "      <td>NaN</td>\n",
       "    </tr>\n",
       "  </tbody>\n",
       "</table>\n",
       "<p>5 rows × 78 columns</p>\n",
       "</div>"
      ],
      "text/plain": [
       "       EXPID MEMBID PEAKID MYEAR  MSEASON        FNAME      LNAME SEX  AGE  \\\n",
       "0  AMAD78301     01   AMAD  1978        3  Jean Robert  Clemenson   M    0   \n",
       "1  AMAD78301     02   AMAD  1978        3      Bernard     Dufour   M    0   \n",
       "2  AMAD78301     03   AMAD  1978        3     Philippe     Gerard   M    0   \n",
       "3  AMAD78301     04   AMAD  1978        3         Eric   Lasserre   M    0   \n",
       "4  AMAD78301     05   AMAD  1978        3          Guy     Peters   M    0   \n",
       "\n",
       "  BIRTHDATE  ... MEMBERMEMO  NECROLOGY MSMTBID MSMTTERM HCN  MCHKSUM  \\\n",
       "0      None  ...       None       None       1        4   0  2426937   \n",
       "1      None  ...       None       None       1        4   0  2426501   \n",
       "2      None  ...       None       None       1        4   0  2431569   \n",
       "3      None  ...       None       None       1        4   0  2426809   \n",
       "4      None  ...       None       None       1        4   0  2429215   \n",
       "\n",
       "   MSMTNOTE1  MSMTNOTE2  MSMTNOTE3  DEATHRTE  \n",
       "0        NaN        NaN        NaN       NaN  \n",
       "1        NaN        NaN        NaN       NaN  \n",
       "2        NaN        NaN        NaN       NaN  \n",
       "3        NaN        NaN        NaN       NaN  \n",
       "4        NaN        NaN        NaN       NaN  \n",
       "\n",
       "[5 rows x 78 columns]"
      ]
     },
     "execution_count": 168,
     "metadata": {},
     "output_type": "execute_result"
    }
   ],
   "source": [
    "df_members.head()"
   ]
  },
  {
   "cell_type": "code",
   "execution_count": 169,
   "metadata": {},
   "outputs": [],
   "source": [
    "df_members.columns = df_members.columns.str.lower()"
   ]
  },
  {
   "cell_type": "code",
   "execution_count": 170,
   "metadata": {},
   "outputs": [],
   "source": [
    "col_list = [\n",
    "  # key keys\n",
    "  'expid',\n",
    "  'membid',\n",
    "  'peakid',\n",
    "  # expedition time\n",
    "  'myear',\n",
    "  'mseason',\n",
    "  # member details\n",
    "  'sex',\n",
    "  'calcage',\n",
    "  'status',\n",
    "  'occupation',\n",
    "  'leader',\n",
    "  'deputy',\n",
    "  'bconly',\n",
    "  'nottobc',\n",
    "  'support',\n",
    "  'disabled',\n",
    "  'hired',\n",
    "  'sherpa',\n",
    "  'tibetan',\n",
    "  # expedition outcome\n",
    "  'msuccess',\n",
    "  'mclaimed',\n",
    "  'mdisputed',\n",
    "  'msmtbid', # summit bid\n",
    "  'msmtterm', # summit bid termination reason\n",
    "  # ascent type\n",
    "  'msolo',\n",
    "  'mtraverse',\n",
    "  'mski',\n",
    "  'mparapente',\n",
    "  'mspeed',  \n",
    "  'mroute1',\n",
    "  'mroute2',\n",
    "  'mroute3',\n",
    "  'mo2used',\n",
    "  'mo2none',\n",
    "  'mo2climb',\n",
    "  'mo2descent',\n",
    "  'mo2sleep',\n",
    "  'mo2medical',\n",
    "  'mo2note'\n",
    "]"
   ]
  },
  {
   "cell_type": "code",
   "execution_count": 171,
   "metadata": {},
   "outputs": [],
   "source": [
    "df_members = df_members[col_list]"
   ]
  },
  {
   "cell_type": "code",
   "execution_count": 172,
   "metadata": {},
   "outputs": [
    {
     "data": {
      "text/plain": [
       "(87156, 38)"
      ]
     },
     "execution_count": 172,
     "metadata": {},
     "output_type": "execute_result"
    }
   ],
   "source": [
    "df_members.shape"
   ]
  },
  {
   "cell_type": "code",
   "execution_count": 173,
   "metadata": {},
   "outputs": [],
   "source": [
    "df_members = df_members.loc[\n",
    "  (df_members.bconly == False) &\n",
    "  (df_members.nottobc == False) &\n",
    "  (df_members.support == False) &\n",
    "  (df_members.disabled == False) &\n",
    "  (df_members.hired == False) &\n",
    "  (df_members.mtraverse == False) &\n",
    "  (df_members.mski == False) &\n",
    "  (df_members.mparapente == False) &\n",
    "  (df_members.tibetan == False) &\n",
    "  (df_members.sherpa == False), :]"
   ]
  },
  {
   "cell_type": "code",
   "execution_count": 174,
   "metadata": {},
   "outputs": [],
   "source": [
    "df_members.drop(\n",
    "  ['bconly', 'nottobc', 'support', 'disabled', 'hired', 'mtraverse', 'mski', 'mparapente', 'tibetan'],\n",
    "  axis=1, inplace=True)"
   ]
  },
  {
   "cell_type": "code",
   "execution_count": 175,
   "metadata": {},
   "outputs": [],
   "source": [
    "df_members.status = df_members.status.str.lower()"
   ]
  },
  {
   "cell_type": "code",
   "execution_count": 176,
   "metadata": {},
   "outputs": [
    {
     "data": {
      "text/plain": [
       "Index(['expid', 'membid', 'peakid', 'myear', 'mseason', 'sex', 'calcage',\n",
       "       'status', 'occupation', 'leader', 'deputy', 'sherpa', 'msuccess',\n",
       "       'mclaimed', 'mdisputed', 'msmtbid', 'msmtterm', 'msolo', 'mspeed',\n",
       "       'mroute1', 'mroute2', 'mroute3', 'mo2used', 'mo2none', 'mo2climb',\n",
       "       'mo2descent', 'mo2sleep', 'mo2medical', 'mo2note'],\n",
       "      dtype='object')"
      ]
     },
     "execution_count": 176,
     "metadata": {},
     "output_type": "execute_result"
    }
   ],
   "source": [
    "df_members.columns"
   ]
  },
  {
   "cell_type": "code",
   "execution_count": 177,
   "metadata": {},
   "outputs": [
    {
     "data": {
      "text/plain": [
       "msuccess\n",
       "False    38557\n",
       "True     21184\n",
       "Name: count, dtype: int64"
      ]
     },
     "execution_count": 177,
     "metadata": {},
     "output_type": "execute_result"
    }
   ],
   "source": [
    "df_members.msuccess.value_counts()"
   ]
  },
  {
   "cell_type": "code",
   "execution_count": 178,
   "metadata": {},
   "outputs": [
    {
     "data": {
      "text/plain": [
       "msmtterm\n",
       "1     21181\n",
       "0     10305\n",
       "3      5736\n",
       "4      4757\n",
       "7      2296\n",
       "9      1903\n",
       "12     1845\n",
       "17     1628\n",
       "5      1612\n",
       "6      1489\n",
       "19     1374\n",
       "18     1116\n",
       "8       858\n",
       "10      824\n",
       "14      762\n",
       "15      674\n",
       "13      557\n",
       "2       517\n",
       "16      173\n",
       "11      134\n",
       "Name: count, dtype: int64"
      ]
     },
     "execution_count": 178,
     "metadata": {},
     "output_type": "execute_result"
    }
   ],
   "source": [
    "df_members.msmtterm.value_counts()"
   ]
  },
  {
   "cell_type": "code",
   "execution_count": null,
   "metadata": {},
   "outputs": [],
   "source": []
  }
 ],
 "metadata": {
  "kernelspec": {
   "display_name": ".env",
   "language": "python",
   "name": "python3"
  },
  "language_info": {
   "codemirror_mode": {
    "name": "ipython",
    "version": 3
   },
   "file_extension": ".py",
   "mimetype": "text/x-python",
   "name": "python",
   "nbconvert_exporter": "python",
   "pygments_lexer": "ipython3",
   "version": "3.9.6"
  }
 },
 "nbformat": 4,
 "nbformat_minor": 2
}
