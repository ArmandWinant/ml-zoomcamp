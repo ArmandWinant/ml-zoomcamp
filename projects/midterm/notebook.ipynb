{
 "cells": [
  {
   "cell_type": "code",
   "execution_count": 482,
   "metadata": {},
   "outputs": [],
   "source": [
    "import numpy as np\n",
    "import pandas as pd\n",
    "from dbfread import DBF"
   ]
  },
  {
   "cell_type": "markdown",
   "metadata": {},
   "source": [
    "## Data Import"
   ]
  },
  {
   "cell_type": "code",
   "execution_count": 483,
   "metadata": {},
   "outputs": [],
   "source": [
    "def read_dbf(filename: str) -> pd.DataFrame:\n",
    "  return pd.DataFrame(DBF(filename))"
   ]
  },
  {
   "cell_type": "code",
   "execution_count": 484,
   "metadata": {},
   "outputs": [],
   "source": [
    "# MEMBERS\n",
    "df_members = read_dbf('./data/members.DBF')\n",
    "\n",
    "# EXPEDITIONS\n",
    "df_exped = read_dbf('./data/exped.DBF')\n",
    "\n",
    "# PEAKS\n",
    "df_peaks = read_dbf('./data/peaks.DBF')"
   ]
  },
  {
   "cell_type": "markdown",
   "metadata": {},
   "source": [
    "## Data Cleaning"
   ]
  },
  {
   "cell_type": "code",
   "execution_count": 485,
   "metadata": {},
   "outputs": [],
   "source": [
    "def standardize_colnames(df: pd.DataFrame) -> pd.DataFrame:\n",
    "  df.columns = df.columns.str.lower()"
   ]
  },
  {
   "cell_type": "markdown",
   "metadata": {},
   "source": [
    "### Members"
   ]
  },
  {
   "cell_type": "code",
   "execution_count": 486,
   "metadata": {},
   "outputs": [
    {
     "data": {
      "text/html": [
       "<div>\n",
       "<style scoped>\n",
       "    .dataframe tbody tr th:only-of-type {\n",
       "        vertical-align: middle;\n",
       "    }\n",
       "\n",
       "    .dataframe tbody tr th {\n",
       "        vertical-align: top;\n",
       "    }\n",
       "\n",
       "    .dataframe thead th {\n",
       "        text-align: right;\n",
       "    }\n",
       "</style>\n",
       "<table border=\"1\" class=\"dataframe\">\n",
       "  <thead>\n",
       "    <tr style=\"text-align: right;\">\n",
       "      <th></th>\n",
       "      <th>EXPID</th>\n",
       "      <th>MEMBID</th>\n",
       "      <th>PEAKID</th>\n",
       "      <th>MYEAR</th>\n",
       "      <th>MSEASON</th>\n",
       "      <th>FNAME</th>\n",
       "      <th>LNAME</th>\n",
       "      <th>SEX</th>\n",
       "      <th>AGE</th>\n",
       "      <th>BIRTHDATE</th>\n",
       "      <th>...</th>\n",
       "      <th>MEMBERMEMO</th>\n",
       "      <th>NECROLOGY</th>\n",
       "      <th>MSMTBID</th>\n",
       "      <th>MSMTTERM</th>\n",
       "      <th>HCN</th>\n",
       "      <th>MCHKSUM</th>\n",
       "      <th>MSMTNOTE1</th>\n",
       "      <th>MSMTNOTE2</th>\n",
       "      <th>MSMTNOTE3</th>\n",
       "      <th>DEATHRTE</th>\n",
       "    </tr>\n",
       "  </thead>\n",
       "  <tbody>\n",
       "    <tr>\n",
       "      <th>0</th>\n",
       "      <td>AMAD78301</td>\n",
       "      <td>01</td>\n",
       "      <td>AMAD</td>\n",
       "      <td>1978</td>\n",
       "      <td>3</td>\n",
       "      <td>Jean Robert</td>\n",
       "      <td>Clemenson</td>\n",
       "      <td>M</td>\n",
       "      <td>0</td>\n",
       "      <td>None</td>\n",
       "      <td>...</td>\n",
       "      <td>None</td>\n",
       "      <td>None</td>\n",
       "      <td>1</td>\n",
       "      <td>4</td>\n",
       "      <td>0</td>\n",
       "      <td>2426937</td>\n",
       "      <td>NaN</td>\n",
       "      <td>NaN</td>\n",
       "      <td>NaN</td>\n",
       "      <td>NaN</td>\n",
       "    </tr>\n",
       "    <tr>\n",
       "      <th>1</th>\n",
       "      <td>AMAD78301</td>\n",
       "      <td>02</td>\n",
       "      <td>AMAD</td>\n",
       "      <td>1978</td>\n",
       "      <td>3</td>\n",
       "      <td>Bernard</td>\n",
       "      <td>Dufour</td>\n",
       "      <td>M</td>\n",
       "      <td>0</td>\n",
       "      <td>None</td>\n",
       "      <td>...</td>\n",
       "      <td>None</td>\n",
       "      <td>None</td>\n",
       "      <td>1</td>\n",
       "      <td>4</td>\n",
       "      <td>0</td>\n",
       "      <td>2426501</td>\n",
       "      <td>NaN</td>\n",
       "      <td>NaN</td>\n",
       "      <td>NaN</td>\n",
       "      <td>NaN</td>\n",
       "    </tr>\n",
       "    <tr>\n",
       "      <th>2</th>\n",
       "      <td>AMAD78301</td>\n",
       "      <td>03</td>\n",
       "      <td>AMAD</td>\n",
       "      <td>1978</td>\n",
       "      <td>3</td>\n",
       "      <td>Philippe</td>\n",
       "      <td>Gerard</td>\n",
       "      <td>M</td>\n",
       "      <td>0</td>\n",
       "      <td>None</td>\n",
       "      <td>...</td>\n",
       "      <td>None</td>\n",
       "      <td>None</td>\n",
       "      <td>1</td>\n",
       "      <td>4</td>\n",
       "      <td>0</td>\n",
       "      <td>2431569</td>\n",
       "      <td>NaN</td>\n",
       "      <td>NaN</td>\n",
       "      <td>NaN</td>\n",
       "      <td>NaN</td>\n",
       "    </tr>\n",
       "    <tr>\n",
       "      <th>3</th>\n",
       "      <td>AMAD78301</td>\n",
       "      <td>04</td>\n",
       "      <td>AMAD</td>\n",
       "      <td>1978</td>\n",
       "      <td>3</td>\n",
       "      <td>Eric</td>\n",
       "      <td>Lasserre</td>\n",
       "      <td>M</td>\n",
       "      <td>0</td>\n",
       "      <td>None</td>\n",
       "      <td>...</td>\n",
       "      <td>None</td>\n",
       "      <td>None</td>\n",
       "      <td>1</td>\n",
       "      <td>4</td>\n",
       "      <td>0</td>\n",
       "      <td>2426809</td>\n",
       "      <td>NaN</td>\n",
       "      <td>NaN</td>\n",
       "      <td>NaN</td>\n",
       "      <td>NaN</td>\n",
       "    </tr>\n",
       "    <tr>\n",
       "      <th>4</th>\n",
       "      <td>AMAD78301</td>\n",
       "      <td>05</td>\n",
       "      <td>AMAD</td>\n",
       "      <td>1978</td>\n",
       "      <td>3</td>\n",
       "      <td>Guy</td>\n",
       "      <td>Peters</td>\n",
       "      <td>M</td>\n",
       "      <td>0</td>\n",
       "      <td>None</td>\n",
       "      <td>...</td>\n",
       "      <td>None</td>\n",
       "      <td>None</td>\n",
       "      <td>1</td>\n",
       "      <td>4</td>\n",
       "      <td>0</td>\n",
       "      <td>2429215</td>\n",
       "      <td>NaN</td>\n",
       "      <td>NaN</td>\n",
       "      <td>NaN</td>\n",
       "      <td>NaN</td>\n",
       "    </tr>\n",
       "  </tbody>\n",
       "</table>\n",
       "<p>5 rows × 78 columns</p>\n",
       "</div>"
      ],
      "text/plain": [
       "       EXPID MEMBID PEAKID MYEAR  MSEASON        FNAME      LNAME SEX  AGE  \\\n",
       "0  AMAD78301     01   AMAD  1978        3  Jean Robert  Clemenson   M    0   \n",
       "1  AMAD78301     02   AMAD  1978        3      Bernard     Dufour   M    0   \n",
       "2  AMAD78301     03   AMAD  1978        3     Philippe     Gerard   M    0   \n",
       "3  AMAD78301     04   AMAD  1978        3         Eric   Lasserre   M    0   \n",
       "4  AMAD78301     05   AMAD  1978        3          Guy     Peters   M    0   \n",
       "\n",
       "  BIRTHDATE  ... MEMBERMEMO  NECROLOGY MSMTBID MSMTTERM HCN  MCHKSUM  \\\n",
       "0      None  ...       None       None       1        4   0  2426937   \n",
       "1      None  ...       None       None       1        4   0  2426501   \n",
       "2      None  ...       None       None       1        4   0  2431569   \n",
       "3      None  ...       None       None       1        4   0  2426809   \n",
       "4      None  ...       None       None       1        4   0  2429215   \n",
       "\n",
       "   MSMTNOTE1  MSMTNOTE2  MSMTNOTE3  DEATHRTE  \n",
       "0        NaN        NaN        NaN       NaN  \n",
       "1        NaN        NaN        NaN       NaN  \n",
       "2        NaN        NaN        NaN       NaN  \n",
       "3        NaN        NaN        NaN       NaN  \n",
       "4        NaN        NaN        NaN       NaN  \n",
       "\n",
       "[5 rows x 78 columns]"
      ]
     },
     "execution_count": 486,
     "metadata": {},
     "output_type": "execute_result"
    }
   ],
   "source": [
    "df_members.head()"
   ]
  },
  {
   "cell_type": "code",
   "execution_count": 487,
   "metadata": {},
   "outputs": [],
   "source": [
    "standardize_colnames(df_members)"
   ]
  },
  {
   "cell_type": "code",
   "execution_count": 488,
   "metadata": {},
   "outputs": [],
   "source": [
    "col_list = [\n",
    "  # ID COLUMNS\n",
    "  'expid',\n",
    "  'membid',\n",
    "  'peakid',\n",
    "  # EXPEDITION START TIME\n",
    "  'myear',\n",
    "  'mseason',\n",
    "  # MEMBER DETAILS\n",
    "  'sex',\n",
    "  'calcage',\n",
    "  'status',\n",
    "  'occupation',\n",
    "  # MEMBER ROLE\n",
    "  'leader',\n",
    "  'deputy',\n",
    "  'bconly',\n",
    "  'nottobc',\n",
    "  'support',\n",
    "  'disabled',\n",
    "  'hired',\n",
    "  'sherpa',\n",
    "  'tibetan',\n",
    "  # EXPEDITION OUTCOME\n",
    "  'msuccess',\n",
    "  # EXPEDITION TYPE\n",
    "  'msolo',\n",
    "  'mtraverse',\n",
    "  'mski',\n",
    "  'mparapente',\n",
    "  'mspeed',\n",
    "  # SUMMIT BID\n",
    "  'msmtbid',\n",
    "  'msmtterm'\n",
    "]"
   ]
  },
  {
   "cell_type": "code",
   "execution_count": 489,
   "metadata": {},
   "outputs": [],
   "source": [
    "df_members = df_members[col_list]"
   ]
  },
  {
   "cell_type": "code",
   "execution_count": 490,
   "metadata": {},
   "outputs": [
    {
     "data": {
      "text/plain": [
       "(87156, 26)"
      ]
     },
     "execution_count": 490,
     "metadata": {},
     "output_type": "execute_result"
    }
   ],
   "source": [
    "df_members.shape"
   ]
  },
  {
   "cell_type": "code",
   "execution_count": 491,
   "metadata": {},
   "outputs": [],
   "source": [
    "df_members = df_members.loc[\n",
    "  (df_members.bconly == False) &\n",
    "  (df_members.nottobc == False) &\n",
    "  (df_members.support == False) &\n",
    "  (df_members.hired == False) &\n",
    "  (df_members.sherpa == False) &\n",
    "  (df_members.tibetan == False)\n",
    "]"
   ]
  },
  {
   "cell_type": "code",
   "execution_count": 492,
   "metadata": {},
   "outputs": [],
   "source": [
    "df_members.drop(['bconly', 'nottobc', 'support', 'disabled', 'hired', 'sherpa', 'tibetan'], axis=1, inplace=True)"
   ]
  },
  {
   "cell_type": "code",
   "execution_count": 493,
   "metadata": {},
   "outputs": [
    {
     "data": {
      "text/plain": [
       "(60585, 19)"
      ]
     },
     "execution_count": 493,
     "metadata": {},
     "output_type": "execute_result"
    }
   ],
   "source": [
    "df_members.shape"
   ]
  },
  {
   "cell_type": "code",
   "execution_count": 494,
   "metadata": {},
   "outputs": [],
   "source": [
    "df_members = df_members.loc[\n",
    "  (df_members.mtraverse == False) &\n",
    "  (df_members.mski == False) &\n",
    "  (df_members.mparapente == False) &\n",
    "  (df_members.mspeed == False),\n",
    "  :\n",
    "]"
   ]
  },
  {
   "cell_type": "code",
   "execution_count": 495,
   "metadata": {},
   "outputs": [],
   "source": [
    "df_members.drop(['mtraverse', 'mski', 'mparapente', 'mspeed'], axis=1, inplace=True)"
   ]
  },
  {
   "cell_type": "code",
   "execution_count": 496,
   "metadata": {},
   "outputs": [],
   "source": [
    "df_members.status = df_members.status.str.lower()"
   ]
  },
  {
   "cell_type": "code",
   "execution_count": 497,
   "metadata": {},
   "outputs": [],
   "source": [
    "df_members = df_members.loc[\n",
    "  (df_members.status.str.contains('climb')) |\n",
    "  (df_members.status.str.contains('lead')),\n",
    "  :\n",
    "]"
   ]
  },
  {
   "cell_type": "code",
   "execution_count": 498,
   "metadata": {},
   "outputs": [],
   "source": [
    "df_members = df_members.loc[\n",
    "  (~df_members.status.str.contains('non-climber')) &\n",
    "  (~df_members.status.str.contains('ski')) &\n",
    "  (~df_members.status.str.contains('paraglider')) &\n",
    "  (~df_members.status.str.contains('camera')) &\n",
    "  (~df_members.status.str.contains('photo')) &\n",
    "  (~df_members.status.str.contains('film')) &\n",
    "  (~df_members.status.str.contains('reporter')) &\n",
    "  (~df_members.status.str.contains('journalist')) &\n",
    "  (~df_members.status.str.contains('coach')) &\n",
    "  (~df_members.status.str.contains('advisor')) &\n",
    "  (~df_members.status.str.contains('instructor')) &\n",
    "  (~df_members.status.str.contains('support')) &\n",
    "  (~df_members.status.str.contains('guide')) &\n",
    "  (~df_members.status.str.contains('torch')) &\n",
    "  (~df_members.status.str.contains('only'))\n",
    "]"
   ]
  },
  {
   "cell_type": "code",
   "execution_count": 499,
   "metadata": {},
   "outputs": [
    {
     "data": {
      "text/plain": [
       "array(['climber', 'climbing leader', 'leader', 'dep climbing leader',\n",
       "       'xclimber', 'leader (n)', 'climbing ldr (n)', 'climber (n)',\n",
       "       'team leader (n)', 'leader (s)', 'climber (s)', 'team leader (s)',\n",
       "       'climbing ldr (s)', 'army leader (s)', 'co-leader',\n",
       "       'deputy ldr/climbing ldr', 'deputy leader', 'climber (s face)',\n",
       "       'dep climbing ldr (s)', 'climber/bc mgr', 'leader/exp doctor',\n",
       "       'climber (guest)', 'climber (n col)', 'climber (trainee)',\n",
       "       'assistant leader', 'leader (nominal)', 'leader?',\n",
       "       'climber (group b)', 'co-leader (group b)', 'climber (group a)',\n",
       "       'co-leader (group a)', 'lhotse climber', 'climbe',\n",
       "       'leader (nomimal)', 'climber (pvt)', 'climber (lhotse)',\n",
       "       'climber (grp 1)', 'climber (grp 2)', 'climber (mm)',\n",
       "       'climber (css)', 'deputry leader', 'climber (xfr)', 'climbev',\n",
       "       'climber/camerman'], dtype=object)"
      ]
     },
     "execution_count": 499,
     "metadata": {},
     "output_type": "execute_result"
    }
   ],
   "source": [
    "df_members.status.unique()"
   ]
  },
  {
   "cell_type": "code",
   "execution_count": 500,
   "metadata": {},
   "outputs": [],
   "source": [
    "df_members.drop(['status'], axis=1, inplace=True)"
   ]
  },
  {
   "cell_type": "markdown",
   "metadata": {},
   "source": [
    "### Peaks"
   ]
  },
  {
   "cell_type": "code",
   "execution_count": 501,
   "metadata": {},
   "outputs": [
    {
     "data": {
      "text/plain": [
       "(479, 25)"
      ]
     },
     "execution_count": 501,
     "metadata": {},
     "output_type": "execute_result"
    }
   ],
   "source": [
    "df_peaks.shape"
   ]
  },
  {
   "cell_type": "code",
   "execution_count": 502,
   "metadata": {},
   "outputs": [],
   "source": [
    "standardize_colnames(df_peaks)"
   ]
  },
  {
   "cell_type": "code",
   "execution_count": null,
   "metadata": {},
   "outputs": [],
   "source": [
    "col_list = [\n",
    "  # ID COLUMN\n",
    "  'peakid',\n",
    "  # PEAK INFO\n",
    "  # 'pkname',\n",
    "  # 'pkname2',\n",
    "  'location',\n",
    "  'heightm',\n",
    "  # 'heightf',\n",
    "  'himal',\n",
    "  'region',\n",
    "  # PEAK STATUS\n",
    "  'open',\n",
    "  'unlisted',\n",
    "  'trekking',\n",
    "  # 'trekyear',\n",
    "  # 'restrict',\n",
    "  'phost',\n",
    "  'pstatus',\n",
    "  # 'peakmemo',\n",
    "  # 'pyear',\n",
    "  # 'pseason',\n",
    "  # 'pexpid',\n",
    "  # 'psmtdate',\n",
    "  # 'pcountry',\n",
    "  # 'psummiters',\n",
    "  # 'psmtnote',\n",
    "  # 'refermemo',\n",
    "  # 'photomemo'\n",
    "]"
   ]
  },
  {
   "cell_type": "code",
   "execution_count": 504,
   "metadata": {},
   "outputs": [],
   "source": [
    "df_peaks = df_peaks[col_list]"
   ]
  },
  {
   "cell_type": "code",
   "execution_count": 505,
   "metadata": {},
   "outputs": [],
   "source": [
    "df_peaks = df_peaks.loc[df_peaks.trekking == False]\n",
    "df_peaks.drop('trekking', axis=1, inplace=True)"
   ]
  },
  {
   "cell_type": "code",
   "execution_count": 506,
   "metadata": {},
   "outputs": [
    {
     "data": {
      "text/plain": [
       "(448, 11)"
      ]
     },
     "execution_count": 506,
     "metadata": {},
     "output_type": "execute_result"
    }
   ],
   "source": [
    "df_peaks.shape"
   ]
  },
  {
   "cell_type": "code",
   "execution_count": 507,
   "metadata": {},
   "outputs": [
    {
     "data": {
      "text/html": [
       "<div>\n",
       "<style scoped>\n",
       "    .dataframe tbody tr th:only-of-type {\n",
       "        vertical-align: middle;\n",
       "    }\n",
       "\n",
       "    .dataframe tbody tr th {\n",
       "        vertical-align: top;\n",
       "    }\n",
       "\n",
       "    .dataframe thead th {\n",
       "        text-align: right;\n",
       "    }\n",
       "</style>\n",
       "<table border=\"1\" class=\"dataframe\">\n",
       "  <thead>\n",
       "    <tr style=\"text-align: right;\">\n",
       "      <th></th>\n",
       "      <th>peakid</th>\n",
       "      <th>location</th>\n",
       "      <th>heightm</th>\n",
       "      <th>himal</th>\n",
       "      <th>region</th>\n",
       "      <th>open</th>\n",
       "      <th>unlisted</th>\n",
       "      <th>trekyear</th>\n",
       "      <th>restrict</th>\n",
       "      <th>phost</th>\n",
       "      <th>pstatus</th>\n",
       "    </tr>\n",
       "  </thead>\n",
       "  <tbody>\n",
       "    <tr>\n",
       "      <th>0</th>\n",
       "      <td>AMAD</td>\n",
       "      <td>Khumbu Himal</td>\n",
       "      <td>6814</td>\n",
       "      <td>12</td>\n",
       "      <td>2</td>\n",
       "      <td>True</td>\n",
       "      <td>False</td>\n",
       "      <td></td>\n",
       "      <td></td>\n",
       "      <td>1</td>\n",
       "      <td>2</td>\n",
       "    </tr>\n",
       "    <tr>\n",
       "      <th>1</th>\n",
       "      <td>AMPG</td>\n",
       "      <td>Khumbu Himal (N of Ama Dablam)</td>\n",
       "      <td>5630</td>\n",
       "      <td>12</td>\n",
       "      <td>2</td>\n",
       "      <td>True</td>\n",
       "      <td>False</td>\n",
       "      <td></td>\n",
       "      <td>Opened in 2002</td>\n",
       "      <td>1</td>\n",
       "      <td>2</td>\n",
       "    </tr>\n",
       "    <tr>\n",
       "      <th>2</th>\n",
       "      <td>ANN1</td>\n",
       "      <td>Annapurna Himal</td>\n",
       "      <td>8091</td>\n",
       "      <td>1</td>\n",
       "      <td>5</td>\n",
       "      <td>True</td>\n",
       "      <td>False</td>\n",
       "      <td></td>\n",
       "      <td></td>\n",
       "      <td>1</td>\n",
       "      <td>2</td>\n",
       "    </tr>\n",
       "    <tr>\n",
       "      <th>3</th>\n",
       "      <td>ANN2</td>\n",
       "      <td>Annapurna Himal</td>\n",
       "      <td>7937</td>\n",
       "      <td>1</td>\n",
       "      <td>5</td>\n",
       "      <td>True</td>\n",
       "      <td>False</td>\n",
       "      <td></td>\n",
       "      <td></td>\n",
       "      <td>1</td>\n",
       "      <td>2</td>\n",
       "    </tr>\n",
       "    <tr>\n",
       "      <th>4</th>\n",
       "      <td>ANN3</td>\n",
       "      <td>Annapurna Himal</td>\n",
       "      <td>7555</td>\n",
       "      <td>1</td>\n",
       "      <td>5</td>\n",
       "      <td>True</td>\n",
       "      <td>False</td>\n",
       "      <td></td>\n",
       "      <td></td>\n",
       "      <td>1</td>\n",
       "      <td>2</td>\n",
       "    </tr>\n",
       "  </tbody>\n",
       "</table>\n",
       "</div>"
      ],
      "text/plain": [
       "  peakid                        location  heightm  himal  region  open  \\\n",
       "0   AMAD                    Khumbu Himal     6814     12       2  True   \n",
       "1   AMPG  Khumbu Himal (N of Ama Dablam)     5630     12       2  True   \n",
       "2   ANN1                 Annapurna Himal     8091      1       5  True   \n",
       "3   ANN2                 Annapurna Himal     7937      1       5  True   \n",
       "4   ANN3                 Annapurna Himal     7555      1       5  True   \n",
       "\n",
       "   unlisted trekyear        restrict  phost  pstatus  \n",
       "0     False                               1        2  \n",
       "1     False           Opened in 2002      1        2  \n",
       "2     False                               1        2  \n",
       "3     False                               1        2  \n",
       "4     False                               1        2  "
      ]
     },
     "execution_count": 507,
     "metadata": {},
     "output_type": "execute_result"
    }
   ],
   "source": [
    "df_peaks.head()"
   ]
  },
  {
   "cell_type": "markdown",
   "metadata": {},
   "source": [
    "### Expeditions"
   ]
  },
  {
   "cell_type": "code",
   "execution_count": 508,
   "metadata": {},
   "outputs": [],
   "source": [
    "standardize_colnames(df_exped)"
   ]
  },
  {
   "cell_type": "code",
   "execution_count": 509,
   "metadata": {},
   "outputs": [
    {
     "data": {
      "text/html": [
       "<div>\n",
       "<style scoped>\n",
       "    .dataframe tbody tr th:only-of-type {\n",
       "        vertical-align: middle;\n",
       "    }\n",
       "\n",
       "    .dataframe tbody tr th {\n",
       "        vertical-align: top;\n",
       "    }\n",
       "\n",
       "    .dataframe thead th {\n",
       "        text-align: right;\n",
       "    }\n",
       "</style>\n",
       "<table border=\"1\" class=\"dataframe\">\n",
       "  <thead>\n",
       "    <tr style=\"text-align: right;\">\n",
       "      <th></th>\n",
       "      <th>expid</th>\n",
       "      <th>peakid</th>\n",
       "      <th>year</th>\n",
       "      <th>season</th>\n",
       "      <th>host</th>\n",
       "      <th>route1</th>\n",
       "      <th>route2</th>\n",
       "      <th>route3</th>\n",
       "      <th>route4</th>\n",
       "      <th>nation</th>\n",
       "      <th>...</th>\n",
       "      <th>accidents</th>\n",
       "      <th>achievment</th>\n",
       "      <th>agency</th>\n",
       "      <th>comrte</th>\n",
       "      <th>stdrte</th>\n",
       "      <th>primrte</th>\n",
       "      <th>primmem</th>\n",
       "      <th>primref</th>\n",
       "      <th>primid</th>\n",
       "      <th>chksum</th>\n",
       "    </tr>\n",
       "  </thead>\n",
       "  <tbody>\n",
       "    <tr>\n",
       "      <th>0</th>\n",
       "      <td>ANN260101</td>\n",
       "      <td>ANN2</td>\n",
       "      <td>1960</td>\n",
       "      <td>1</td>\n",
       "      <td>1</td>\n",
       "      <td>NW Ridge-W Ridge</td>\n",
       "      <td></td>\n",
       "      <td></td>\n",
       "      <td></td>\n",
       "      <td>UK</td>\n",
       "      <td>...</td>\n",
       "      <td></td>\n",
       "      <td></td>\n",
       "      <td></td>\n",
       "      <td>None</td>\n",
       "      <td>None</td>\n",
       "      <td>False</td>\n",
       "      <td>False</td>\n",
       "      <td>None</td>\n",
       "      <td></td>\n",
       "      <td>2442047</td>\n",
       "    </tr>\n",
       "    <tr>\n",
       "      <th>1</th>\n",
       "      <td>ANN269301</td>\n",
       "      <td>ANN2</td>\n",
       "      <td>1969</td>\n",
       "      <td>3</td>\n",
       "      <td>1</td>\n",
       "      <td>NW Ridge-W Ridge</td>\n",
       "      <td></td>\n",
       "      <td></td>\n",
       "      <td></td>\n",
       "      <td>Yugoslavia</td>\n",
       "      <td>...</td>\n",
       "      <td>Draslar frostbitten hands and feet</td>\n",
       "      <td></td>\n",
       "      <td></td>\n",
       "      <td>None</td>\n",
       "      <td>None</td>\n",
       "      <td>False</td>\n",
       "      <td>False</td>\n",
       "      <td>None</td>\n",
       "      <td></td>\n",
       "      <td>2445501</td>\n",
       "    </tr>\n",
       "    <tr>\n",
       "      <th>2</th>\n",
       "      <td>ANN273101</td>\n",
       "      <td>ANN2</td>\n",
       "      <td>1973</td>\n",
       "      <td>1</td>\n",
       "      <td>1</td>\n",
       "      <td>W Ridge-N Face</td>\n",
       "      <td></td>\n",
       "      <td></td>\n",
       "      <td></td>\n",
       "      <td>Japan</td>\n",
       "      <td>...</td>\n",
       "      <td></td>\n",
       "      <td></td>\n",
       "      <td></td>\n",
       "      <td>None</td>\n",
       "      <td>None</td>\n",
       "      <td>False</td>\n",
       "      <td>False</td>\n",
       "      <td>None</td>\n",
       "      <td></td>\n",
       "      <td>2446797</td>\n",
       "    </tr>\n",
       "    <tr>\n",
       "      <th>3</th>\n",
       "      <td>ANN278301</td>\n",
       "      <td>ANN2</td>\n",
       "      <td>1978</td>\n",
       "      <td>3</td>\n",
       "      <td>1</td>\n",
       "      <td>N Face-W Ridge</td>\n",
       "      <td></td>\n",
       "      <td></td>\n",
       "      <td></td>\n",
       "      <td>UK</td>\n",
       "      <td>...</td>\n",
       "      <td></td>\n",
       "      <td></td>\n",
       "      <td></td>\n",
       "      <td>None</td>\n",
       "      <td>None</td>\n",
       "      <td>False</td>\n",
       "      <td>False</td>\n",
       "      <td>None</td>\n",
       "      <td></td>\n",
       "      <td>2448822</td>\n",
       "    </tr>\n",
       "    <tr>\n",
       "      <th>4</th>\n",
       "      <td>ANN279301</td>\n",
       "      <td>ANN2</td>\n",
       "      <td>1979</td>\n",
       "      <td>3</td>\n",
       "      <td>1</td>\n",
       "      <td>N Face-W Ridge</td>\n",
       "      <td>NW Ridge of A-IV</td>\n",
       "      <td></td>\n",
       "      <td></td>\n",
       "      <td>UK</td>\n",
       "      <td>...</td>\n",
       "      <td></td>\n",
       "      <td></td>\n",
       "      <td></td>\n",
       "      <td>None</td>\n",
       "      <td>None</td>\n",
       "      <td>False</td>\n",
       "      <td>False</td>\n",
       "      <td>None</td>\n",
       "      <td></td>\n",
       "      <td>2449204</td>\n",
       "    </tr>\n",
       "  </tbody>\n",
       "</table>\n",
       "<p>5 rows × 66 columns</p>\n",
       "</div>"
      ],
      "text/plain": [
       "       expid peakid  year  season  host            route1            route2  \\\n",
       "0  ANN260101   ANN2  1960       1     1  NW Ridge-W Ridge                     \n",
       "1  ANN269301   ANN2  1969       3     1  NW Ridge-W Ridge                     \n",
       "2  ANN273101   ANN2  1973       1     1    W Ridge-N Face                     \n",
       "3  ANN278301   ANN2  1978       3     1    N Face-W Ridge                     \n",
       "4  ANN279301   ANN2  1979       3     1    N Face-W Ridge  NW Ridge of A-IV   \n",
       "\n",
       "  route3 route4      nation  ...                           accidents  \\\n",
       "0                        UK  ...                                       \n",
       "1                Yugoslavia  ...  Draslar frostbitten hands and feet   \n",
       "2                     Japan  ...                                       \n",
       "3                        UK  ...                                       \n",
       "4                        UK  ...                                       \n",
       "\n",
       "  achievment  agency  comrte  stdrte  primrte primmem primref primid   chksum  \n",
       "0                       None    None    False   False    None         2442047  \n",
       "1                       None    None    False   False    None         2445501  \n",
       "2                       None    None    False   False    None         2446797  \n",
       "3                       None    None    False   False    None         2448822  \n",
       "4                       None    None    False   False    None         2449204  \n",
       "\n",
       "[5 rows x 66 columns]"
      ]
     },
     "execution_count": 509,
     "metadata": {},
     "output_type": "execute_result"
    }
   ],
   "source": [
    "df_exped.head()"
   ]
  },
  {
   "cell_type": "code",
   "execution_count": null,
   "metadata": {},
   "outputs": [],
   "source": []
  }
 ],
 "metadata": {
  "kernelspec": {
   "display_name": ".env",
   "language": "python",
   "name": "python3"
  },
  "language_info": {
   "codemirror_mode": {
    "name": "ipython",
    "version": 3
   },
   "file_extension": ".py",
   "mimetype": "text/x-python",
   "name": "python",
   "nbconvert_exporter": "python",
   "pygments_lexer": "ipython3",
   "version": "3.9.6"
  }
 },
 "nbformat": 4,
 "nbformat_minor": 2
}
