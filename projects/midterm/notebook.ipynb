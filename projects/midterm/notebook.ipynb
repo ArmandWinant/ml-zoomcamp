{
 "cells": [
  {
   "cell_type": "code",
   "execution_count": 112,
   "metadata": {},
   "outputs": [],
   "source": [
    "import numpy as np\n",
    "import pandas as pd\n",
    "from dbfread import DBF"
   ]
  },
  {
   "cell_type": "markdown",
   "metadata": {},
   "source": [
    "## Data Import"
   ]
  },
  {
   "cell_type": "code",
   "execution_count": 113,
   "metadata": {},
   "outputs": [],
   "source": [
    "def read_dbf(filename: str) -> pd.DataFrame:\n",
    "  return pd.DataFrame(DBF(filename))"
   ]
  },
  {
   "cell_type": "code",
   "execution_count": 114,
   "metadata": {},
   "outputs": [],
   "source": [
    "# MEMBERS\n",
    "df_members = read_dbf('./data/members.DBF')\n",
    "\n",
    "# EXPEDITIONS\n",
    "df_exped = read_dbf('./data/exped.DBF')\n",
    "\n",
    "# PEAKS\n",
    "df_peaks = read_dbf('./data/peaks.DBF')"
   ]
  },
  {
   "cell_type": "markdown",
   "metadata": {},
   "source": [
    "## Data Cleaning\n",
    "### Members"
   ]
  },
  {
   "cell_type": "code",
   "execution_count": 115,
   "metadata": {},
   "outputs": [
    {
     "data": {
      "text/plain": [
       "(87156, 78)"
      ]
     },
     "execution_count": 115,
     "metadata": {},
     "output_type": "execute_result"
    }
   ],
   "source": [
    "df_members.shape"
   ]
  },
  {
   "cell_type": "code",
   "execution_count": 116,
   "metadata": {},
   "outputs": [
    {
     "data": {
      "text/html": [
       "<div>\n",
       "<style scoped>\n",
       "    .dataframe tbody tr th:only-of-type {\n",
       "        vertical-align: middle;\n",
       "    }\n",
       "\n",
       "    .dataframe tbody tr th {\n",
       "        vertical-align: top;\n",
       "    }\n",
       "\n",
       "    .dataframe thead th {\n",
       "        text-align: right;\n",
       "    }\n",
       "</style>\n",
       "<table border=\"1\" class=\"dataframe\">\n",
       "  <thead>\n",
       "    <tr style=\"text-align: right;\">\n",
       "      <th></th>\n",
       "      <th>EXPID</th>\n",
       "      <th>MEMBID</th>\n",
       "      <th>PEAKID</th>\n",
       "      <th>MYEAR</th>\n",
       "      <th>MSEASON</th>\n",
       "      <th>FNAME</th>\n",
       "      <th>LNAME</th>\n",
       "      <th>SEX</th>\n",
       "      <th>AGE</th>\n",
       "      <th>BIRTHDATE</th>\n",
       "      <th>...</th>\n",
       "      <th>MEMBERMEMO</th>\n",
       "      <th>NECROLOGY</th>\n",
       "      <th>MSMTBID</th>\n",
       "      <th>MSMTTERM</th>\n",
       "      <th>HCN</th>\n",
       "      <th>MCHKSUM</th>\n",
       "      <th>MSMTNOTE1</th>\n",
       "      <th>MSMTNOTE2</th>\n",
       "      <th>MSMTNOTE3</th>\n",
       "      <th>DEATHRTE</th>\n",
       "    </tr>\n",
       "  </thead>\n",
       "  <tbody>\n",
       "    <tr>\n",
       "      <th>0</th>\n",
       "      <td>AMAD78301</td>\n",
       "      <td>01</td>\n",
       "      <td>AMAD</td>\n",
       "      <td>1978</td>\n",
       "      <td>3</td>\n",
       "      <td>Jean Robert</td>\n",
       "      <td>Clemenson</td>\n",
       "      <td>M</td>\n",
       "      <td>0</td>\n",
       "      <td>None</td>\n",
       "      <td>...</td>\n",
       "      <td>None</td>\n",
       "      <td>None</td>\n",
       "      <td>1</td>\n",
       "      <td>4</td>\n",
       "      <td>0</td>\n",
       "      <td>2426937</td>\n",
       "      <td>NaN</td>\n",
       "      <td>NaN</td>\n",
       "      <td>NaN</td>\n",
       "      <td>NaN</td>\n",
       "    </tr>\n",
       "    <tr>\n",
       "      <th>1</th>\n",
       "      <td>AMAD78301</td>\n",
       "      <td>02</td>\n",
       "      <td>AMAD</td>\n",
       "      <td>1978</td>\n",
       "      <td>3</td>\n",
       "      <td>Bernard</td>\n",
       "      <td>Dufour</td>\n",
       "      <td>M</td>\n",
       "      <td>0</td>\n",
       "      <td>None</td>\n",
       "      <td>...</td>\n",
       "      <td>None</td>\n",
       "      <td>None</td>\n",
       "      <td>1</td>\n",
       "      <td>4</td>\n",
       "      <td>0</td>\n",
       "      <td>2426501</td>\n",
       "      <td>NaN</td>\n",
       "      <td>NaN</td>\n",
       "      <td>NaN</td>\n",
       "      <td>NaN</td>\n",
       "    </tr>\n",
       "    <tr>\n",
       "      <th>2</th>\n",
       "      <td>AMAD78301</td>\n",
       "      <td>03</td>\n",
       "      <td>AMAD</td>\n",
       "      <td>1978</td>\n",
       "      <td>3</td>\n",
       "      <td>Philippe</td>\n",
       "      <td>Gerard</td>\n",
       "      <td>M</td>\n",
       "      <td>0</td>\n",
       "      <td>None</td>\n",
       "      <td>...</td>\n",
       "      <td>None</td>\n",
       "      <td>None</td>\n",
       "      <td>1</td>\n",
       "      <td>4</td>\n",
       "      <td>0</td>\n",
       "      <td>2431569</td>\n",
       "      <td>NaN</td>\n",
       "      <td>NaN</td>\n",
       "      <td>NaN</td>\n",
       "      <td>NaN</td>\n",
       "    </tr>\n",
       "    <tr>\n",
       "      <th>3</th>\n",
       "      <td>AMAD78301</td>\n",
       "      <td>04</td>\n",
       "      <td>AMAD</td>\n",
       "      <td>1978</td>\n",
       "      <td>3</td>\n",
       "      <td>Eric</td>\n",
       "      <td>Lasserre</td>\n",
       "      <td>M</td>\n",
       "      <td>0</td>\n",
       "      <td>None</td>\n",
       "      <td>...</td>\n",
       "      <td>None</td>\n",
       "      <td>None</td>\n",
       "      <td>1</td>\n",
       "      <td>4</td>\n",
       "      <td>0</td>\n",
       "      <td>2426809</td>\n",
       "      <td>NaN</td>\n",
       "      <td>NaN</td>\n",
       "      <td>NaN</td>\n",
       "      <td>NaN</td>\n",
       "    </tr>\n",
       "    <tr>\n",
       "      <th>4</th>\n",
       "      <td>AMAD78301</td>\n",
       "      <td>05</td>\n",
       "      <td>AMAD</td>\n",
       "      <td>1978</td>\n",
       "      <td>3</td>\n",
       "      <td>Guy</td>\n",
       "      <td>Peters</td>\n",
       "      <td>M</td>\n",
       "      <td>0</td>\n",
       "      <td>None</td>\n",
       "      <td>...</td>\n",
       "      <td>None</td>\n",
       "      <td>None</td>\n",
       "      <td>1</td>\n",
       "      <td>4</td>\n",
       "      <td>0</td>\n",
       "      <td>2429215</td>\n",
       "      <td>NaN</td>\n",
       "      <td>NaN</td>\n",
       "      <td>NaN</td>\n",
       "      <td>NaN</td>\n",
       "    </tr>\n",
       "  </tbody>\n",
       "</table>\n",
       "<p>5 rows × 78 columns</p>\n",
       "</div>"
      ],
      "text/plain": [
       "       EXPID MEMBID PEAKID MYEAR  MSEASON        FNAME      LNAME SEX  AGE  \\\n",
       "0  AMAD78301     01   AMAD  1978        3  Jean Robert  Clemenson   M    0   \n",
       "1  AMAD78301     02   AMAD  1978        3      Bernard     Dufour   M    0   \n",
       "2  AMAD78301     03   AMAD  1978        3     Philippe     Gerard   M    0   \n",
       "3  AMAD78301     04   AMAD  1978        3         Eric   Lasserre   M    0   \n",
       "4  AMAD78301     05   AMAD  1978        3          Guy     Peters   M    0   \n",
       "\n",
       "  BIRTHDATE  ... MEMBERMEMO  NECROLOGY MSMTBID MSMTTERM HCN  MCHKSUM  \\\n",
       "0      None  ...       None       None       1        4   0  2426937   \n",
       "1      None  ...       None       None       1        4   0  2426501   \n",
       "2      None  ...       None       None       1        4   0  2431569   \n",
       "3      None  ...       None       None       1        4   0  2426809   \n",
       "4      None  ...       None       None       1        4   0  2429215   \n",
       "\n",
       "   MSMTNOTE1  MSMTNOTE2  MSMTNOTE3  DEATHRTE  \n",
       "0        NaN        NaN        NaN       NaN  \n",
       "1        NaN        NaN        NaN       NaN  \n",
       "2        NaN        NaN        NaN       NaN  \n",
       "3        NaN        NaN        NaN       NaN  \n",
       "4        NaN        NaN        NaN       NaN  \n",
       "\n",
       "[5 rows x 78 columns]"
      ]
     },
     "execution_count": 116,
     "metadata": {},
     "output_type": "execute_result"
    }
   ],
   "source": [
    "df_members.head()"
   ]
  },
  {
   "cell_type": "code",
   "execution_count": 117,
   "metadata": {},
   "outputs": [],
   "source": [
    "df_members.columns = df_members.columns.str.lower()"
   ]
  },
  {
   "cell_type": "code",
   "execution_count": 118,
   "metadata": {},
   "outputs": [],
   "source": [
    "col_list = [\n",
    "  # key keys\n",
    "  'expid',\n",
    "  'membid',\n",
    "  'peakid',\n",
    "  # expedition time\n",
    "  'myear',\n",
    "  'mseason',\n",
    "  # member details\n",
    "  'sex',\n",
    "  'calcage',\n",
    "  'status',\n",
    "  'occupation',\n",
    "  'leader',\n",
    "  'deputy',\n",
    "  'bconly',\n",
    "  'nottobc',\n",
    "  'support',\n",
    "  'disabled',\n",
    "  'hired',\n",
    "  'sherpa',\n",
    "  'tibetan',\n",
    "  # expedition outcome\n",
    "  'msuccess',\n",
    "  'mclaimed',\n",
    "  'mdisputed',\n",
    "  'msmtbid', # summit bid\n",
    "  'msmtterm', # summit bid termination reason\n",
    "  # ascent type\n",
    "  'msolo',\n",
    "  'mtraverse',\n",
    "  'mski',\n",
    "  'mparapente',\n",
    "  'mspeed',  \n",
    "  'mroute1',\n",
    "  'mroute2',\n",
    "  'mroute3',\n",
    "  'mo2used',\n",
    "  'mo2none',\n",
    "  'mo2climb',\n",
    "  'mo2descent',\n",
    "  'mo2sleep',\n",
    "  'mo2medical',\n",
    "  'mo2note'\n",
    "]"
   ]
  },
  {
   "cell_type": "code",
   "execution_count": 119,
   "metadata": {},
   "outputs": [],
   "source": [
    "df_members = df_members[col_list]"
   ]
  },
  {
   "cell_type": "code",
   "execution_count": 120,
   "metadata": {},
   "outputs": [
    {
     "data": {
      "text/plain": [
       "(87156, 38)"
      ]
     },
     "execution_count": 120,
     "metadata": {},
     "output_type": "execute_result"
    }
   ],
   "source": [
    "df_members.shape"
   ]
  },
  {
   "cell_type": "code",
   "execution_count": 121,
   "metadata": {},
   "outputs": [],
   "source": [
    "df_members = df_members.loc[\n",
    "  (df_members.bconly == False) &\n",
    "  (df_members.nottobc == False) &\n",
    "  (df_members.support == False) &\n",
    "  (df_members.disabled == False) &\n",
    "  (df_members.hired == False) &\n",
    "  (df_members.mtraverse == False) &\n",
    "  (df_members.mski == False) &\n",
    "  (df_members.mparapente == False) &\n",
    "  (df_members.tibetan == False) &\n",
    "  (df_members.sherpa == False), :]"
   ]
  },
  {
   "cell_type": "code",
   "execution_count": 122,
   "metadata": {},
   "outputs": [],
   "source": [
    "df_members.drop(\n",
    "  ['bconly', 'nottobc', 'support', 'disabled', 'hired', 'mtraverse', 'mski', 'mparapente', 'tibetan'],\n",
    "  axis=1, inplace=True)"
   ]
  },
  {
   "cell_type": "code",
   "execution_count": 123,
   "metadata": {},
   "outputs": [],
   "source": [
    "df_members.status = df_members.status.str.lower()"
   ]
  },
  {
   "cell_type": "code",
   "execution_count": 124,
   "metadata": {},
   "outputs": [
    {
     "data": {
      "text/plain": [
       "Index(['expid', 'membid', 'peakid', 'myear', 'mseason', 'sex', 'calcage',\n",
       "       'status', 'occupation', 'leader', 'deputy', 'sherpa', 'msuccess',\n",
       "       'mclaimed', 'mdisputed', 'msmtbid', 'msmtterm', 'msolo', 'mspeed',\n",
       "       'mroute1', 'mroute2', 'mroute3', 'mo2used', 'mo2none', 'mo2climb',\n",
       "       'mo2descent', 'mo2sleep', 'mo2medical', 'mo2note'],\n",
       "      dtype='object')"
      ]
     },
     "execution_count": 124,
     "metadata": {},
     "output_type": "execute_result"
    }
   ],
   "source": [
    "df_members.columns"
   ]
  },
  {
   "cell_type": "code",
   "execution_count": 125,
   "metadata": {},
   "outputs": [
    {
     "data": {
      "text/plain": [
       "msuccess\n",
       "False    38557\n",
       "True     21184\n",
       "Name: count, dtype: int64"
      ]
     },
     "execution_count": 125,
     "metadata": {},
     "output_type": "execute_result"
    }
   ],
   "source": [
    "df_members.msuccess.value_counts()"
   ]
  },
  {
   "cell_type": "code",
   "execution_count": 126,
   "metadata": {},
   "outputs": [
    {
     "data": {
      "text/plain": [
       "msmtterm\n",
       "1     21181\n",
       "0     10305\n",
       "3      5736\n",
       "4      4757\n",
       "7      2296\n",
       "9      1903\n",
       "12     1845\n",
       "17     1628\n",
       "5      1612\n",
       "6      1489\n",
       "19     1374\n",
       "18     1116\n",
       "8       858\n",
       "10      824\n",
       "14      762\n",
       "15      674\n",
       "13      557\n",
       "2       517\n",
       "16      173\n",
       "11      134\n",
       "Name: count, dtype: int64"
      ]
     },
     "execution_count": 126,
     "metadata": {},
     "output_type": "execute_result"
    }
   ],
   "source": [
    "df_members.msmtterm.value_counts()"
   ]
  },
  {
   "cell_type": "markdown",
   "metadata": {},
   "source": [
    "## Peaks"
   ]
  },
  {
   "cell_type": "code",
   "execution_count": 127,
   "metadata": {},
   "outputs": [
    {
     "data": {
      "text/plain": [
       "(479, 25)"
      ]
     },
     "execution_count": 127,
     "metadata": {},
     "output_type": "execute_result"
    }
   ],
   "source": [
    "df_peaks.shape"
   ]
  },
  {
   "cell_type": "code",
   "execution_count": 128,
   "metadata": {},
   "outputs": [
    {
     "data": {
      "text/html": [
       "<div>\n",
       "<style scoped>\n",
       "    .dataframe tbody tr th:only-of-type {\n",
       "        vertical-align: middle;\n",
       "    }\n",
       "\n",
       "    .dataframe tbody tr th {\n",
       "        vertical-align: top;\n",
       "    }\n",
       "\n",
       "    .dataframe thead th {\n",
       "        text-align: right;\n",
       "    }\n",
       "</style>\n",
       "<table border=\"1\" class=\"dataframe\">\n",
       "  <thead>\n",
       "    <tr style=\"text-align: right;\">\n",
       "      <th></th>\n",
       "      <th>PEAKID</th>\n",
       "      <th>PKNAME</th>\n",
       "      <th>PKNAME2</th>\n",
       "      <th>LOCATION</th>\n",
       "      <th>HEIGHTM</th>\n",
       "      <th>HEIGHTF</th>\n",
       "      <th>HIMAL</th>\n",
       "      <th>REGION</th>\n",
       "      <th>OPEN</th>\n",
       "      <th>UNLISTED</th>\n",
       "      <th>...</th>\n",
       "      <th>PEAKMEMO</th>\n",
       "      <th>PYEAR</th>\n",
       "      <th>PSEASON</th>\n",
       "      <th>PEXPID</th>\n",
       "      <th>PSMTDATE</th>\n",
       "      <th>PCOUNTRY</th>\n",
       "      <th>PSUMMITERS</th>\n",
       "      <th>PSMTNOTE</th>\n",
       "      <th>REFERMEMO</th>\n",
       "      <th>PHOTOMEMO</th>\n",
       "    </tr>\n",
       "  </thead>\n",
       "  <tbody>\n",
       "    <tr>\n",
       "      <th>0</th>\n",
       "      <td>AMAD</td>\n",
       "      <td>Ama Dablam</td>\n",
       "      <td>Amai Dablang</td>\n",
       "      <td>Khumbu Himal</td>\n",
       "      <td>6814</td>\n",
       "      <td>22356</td>\n",
       "      <td>12</td>\n",
       "      <td>2</td>\n",
       "      <td>True</td>\n",
       "      <td>False</td>\n",
       "      <td>...</td>\n",
       "      <td>Other map altitudes:\\r\\n   6814m - HMG-MT, HMG...</td>\n",
       "      <td>1961</td>\n",
       "      <td>1</td>\n",
       "      <td>AMAD61101</td>\n",
       "      <td>Mar 13</td>\n",
       "      <td>New Zealand, USA, UK</td>\n",
       "      <td>Mike Gill, Wally Romanes, Barry Bishop, Michae...</td>\n",
       "      <td></td>\n",
       "      <td>None</td>\n",
       "      <td>W Face (High 126:5 May 1993)\\r\\nSE Face (High ...</td>\n",
       "    </tr>\n",
       "    <tr>\n",
       "      <th>1</th>\n",
       "      <td>AMPG</td>\n",
       "      <td>Amphu Gyabjen</td>\n",
       "      <td>Amphu Gyabien</td>\n",
       "      <td>Khumbu Himal (N of Ama Dablam)</td>\n",
       "      <td>5630</td>\n",
       "      <td>18471</td>\n",
       "      <td>12</td>\n",
       "      <td>2</td>\n",
       "      <td>True</td>\n",
       "      <td>False</td>\n",
       "      <td>...</td>\n",
       "      <td>Other map altitudes:\\r\\n   5630m - HMG-Finn, N...</td>\n",
       "      <td>1953</td>\n",
       "      <td>1</td>\n",
       "      <td>AMPG53101</td>\n",
       "      <td>Apr 11</td>\n",
       "      <td>UK</td>\n",
       "      <td>John Hunt, Tom Bourdillon</td>\n",
       "      <td></td>\n",
       "      <td>None</td>\n",
       "      <td>None</td>\n",
       "    </tr>\n",
       "    <tr>\n",
       "      <th>2</th>\n",
       "      <td>ANN1</td>\n",
       "      <td>Annapurna I</td>\n",
       "      <td></td>\n",
       "      <td>Annapurna Himal</td>\n",
       "      <td>8091</td>\n",
       "      <td>26545</td>\n",
       "      <td>1</td>\n",
       "      <td>5</td>\n",
       "      <td>True</td>\n",
       "      <td>False</td>\n",
       "      <td>...</td>\n",
       "      <td>Other map altitudes:\\r\\n   8091m - HMG-MT, HMG...</td>\n",
       "      <td>1950</td>\n",
       "      <td>1</td>\n",
       "      <td>ANN150101</td>\n",
       "      <td>Jun 03</td>\n",
       "      <td>France</td>\n",
       "      <td>Maurice Herzog, Louis Lachenal</td>\n",
       "      <td></td>\n",
       "      <td>Dyhrenfurth history 1950-1977 (MM 58:44-47 Nov...</td>\n",
       "      <td>S Face (High 122:3 Jan 1993) (Beghin accident)...</td>\n",
       "    </tr>\n",
       "    <tr>\n",
       "      <th>3</th>\n",
       "      <td>ANN2</td>\n",
       "      <td>Annapurna II</td>\n",
       "      <td></td>\n",
       "      <td>Annapurna Himal</td>\n",
       "      <td>7937</td>\n",
       "      <td>26040</td>\n",
       "      <td>1</td>\n",
       "      <td>5</td>\n",
       "      <td>True</td>\n",
       "      <td>False</td>\n",
       "      <td>...</td>\n",
       "      <td>Other map altitudes:\\r\\n   7937m - HMG-MT, HMG...</td>\n",
       "      <td>1960</td>\n",
       "      <td>1</td>\n",
       "      <td>ANN260101</td>\n",
       "      <td>May 17</td>\n",
       "      <td>UK, Nepal</td>\n",
       "      <td>Richard Grant, Chris Bonington, Ang Nyima Sherpa</td>\n",
       "      <td></td>\n",
       "      <td>Dyhrenfurth history 1960-1976 (MM 51:36-37 Sep...</td>\n",
       "      <td>N Face (MM 51:36 Sep 1976)</td>\n",
       "    </tr>\n",
       "    <tr>\n",
       "      <th>4</th>\n",
       "      <td>ANN3</td>\n",
       "      <td>Annapurna III</td>\n",
       "      <td></td>\n",
       "      <td>Annapurna Himal</td>\n",
       "      <td>7555</td>\n",
       "      <td>24787</td>\n",
       "      <td>1</td>\n",
       "      <td>5</td>\n",
       "      <td>True</td>\n",
       "      <td>False</td>\n",
       "      <td>...</td>\n",
       "      <td>Other map altitudes:\\r\\n   7555m - HMG-MT, HMG...</td>\n",
       "      <td>1961</td>\n",
       "      <td>1</td>\n",
       "      <td>ANN361101</td>\n",
       "      <td>May 06</td>\n",
       "      <td>India</td>\n",
       "      <td>Mohan S. Kohli, Sonam Gyatso, Sonam Girmi</td>\n",
       "      <td></td>\n",
       "      <td>None</td>\n",
       "      <td>S Side (MM 125:11 Jan 1989)\\r\\nSW Face (MM 71:...</td>\n",
       "    </tr>\n",
       "  </tbody>\n",
       "</table>\n",
       "<p>5 rows × 25 columns</p>\n",
       "</div>"
      ],
      "text/plain": [
       "  PEAKID         PKNAME        PKNAME2                        LOCATION  \\\n",
       "0   AMAD     Ama Dablam   Amai Dablang                    Khumbu Himal   \n",
       "1   AMPG  Amphu Gyabjen  Amphu Gyabien  Khumbu Himal (N of Ama Dablam)   \n",
       "2   ANN1    Annapurna I                                Annapurna Himal   \n",
       "3   ANN2   Annapurna II                                Annapurna Himal   \n",
       "4   ANN3  Annapurna III                                Annapurna Himal   \n",
       "\n",
       "   HEIGHTM  HEIGHTF  HIMAL  REGION  OPEN  UNLISTED  ...  \\\n",
       "0     6814    22356     12       2  True     False  ...   \n",
       "1     5630    18471     12       2  True     False  ...   \n",
       "2     8091    26545      1       5  True     False  ...   \n",
       "3     7937    26040      1       5  True     False  ...   \n",
       "4     7555    24787      1       5  True     False  ...   \n",
       "\n",
       "                                            PEAKMEMO PYEAR PSEASON     PEXPID  \\\n",
       "0  Other map altitudes:\\r\\n   6814m - HMG-MT, HMG...  1961       1  AMAD61101   \n",
       "1  Other map altitudes:\\r\\n   5630m - HMG-Finn, N...  1953       1  AMPG53101   \n",
       "2  Other map altitudes:\\r\\n   8091m - HMG-MT, HMG...  1950       1  ANN150101   \n",
       "3  Other map altitudes:\\r\\n   7937m - HMG-MT, HMG...  1960       1  ANN260101   \n",
       "4  Other map altitudes:\\r\\n   7555m - HMG-MT, HMG...  1961       1  ANN361101   \n",
       "\n",
       "   PSMTDATE              PCOUNTRY  \\\n",
       "0    Mar 13  New Zealand, USA, UK   \n",
       "1    Apr 11                    UK   \n",
       "2    Jun 03                France   \n",
       "3    May 17             UK, Nepal   \n",
       "4    May 06                 India   \n",
       "\n",
       "                                          PSUMMITERS  PSMTNOTE  \\\n",
       "0  Mike Gill, Wally Romanes, Barry Bishop, Michae...             \n",
       "1                          John Hunt, Tom Bourdillon             \n",
       "2                     Maurice Herzog, Louis Lachenal             \n",
       "3   Richard Grant, Chris Bonington, Ang Nyima Sherpa             \n",
       "4          Mohan S. Kohli, Sonam Gyatso, Sonam Girmi             \n",
       "\n",
       "                                           REFERMEMO  \\\n",
       "0                                               None   \n",
       "1                                               None   \n",
       "2  Dyhrenfurth history 1950-1977 (MM 58:44-47 Nov...   \n",
       "3  Dyhrenfurth history 1960-1976 (MM 51:36-37 Sep...   \n",
       "4                                               None   \n",
       "\n",
       "                                           PHOTOMEMO  \n",
       "0  W Face (High 126:5 May 1993)\\r\\nSE Face (High ...  \n",
       "1                                               None  \n",
       "2  S Face (High 122:3 Jan 1993) (Beghin accident)...  \n",
       "3                         N Face (MM 51:36 Sep 1976)  \n",
       "4  S Side (MM 125:11 Jan 1989)\\r\\nSW Face (MM 71:...  \n",
       "\n",
       "[5 rows x 25 columns]"
      ]
     },
     "execution_count": 128,
     "metadata": {},
     "output_type": "execute_result"
    }
   ],
   "source": [
    "df_peaks.head()"
   ]
  },
  {
   "cell_type": "code",
   "execution_count": 129,
   "metadata": {},
   "outputs": [],
   "source": [
    "df_peaks.columns = df_peaks.columns.str.lower()"
   ]
  },
  {
   "cell_type": "code",
   "execution_count": 130,
   "metadata": {},
   "outputs": [
    {
     "data": {
      "text/plain": [
       "Index(['peakid', 'pkname', 'pkname2', 'location', 'heightm', 'heightf',\n",
       "       'himal', 'region', 'open', 'unlisted', 'trekking', 'trekyear',\n",
       "       'restrict', 'phost', 'pstatus', 'peakmemo', 'pyear', 'pseason',\n",
       "       'pexpid', 'psmtdate', 'pcountry', 'psummiters', 'psmtnote', 'refermemo',\n",
       "       'photomemo'],\n",
       "      dtype='object')"
      ]
     },
     "execution_count": 130,
     "metadata": {},
     "output_type": "execute_result"
    }
   ],
   "source": [
    "df_peaks.columns"
   ]
  },
  {
   "cell_type": "code",
   "execution_count": 137,
   "metadata": {},
   "outputs": [],
   "source": [
    "col_list = [\n",
    "  'peakid',\n",
    "  'heightm',\n",
    "  'himal',\n",
    "  'region',\n",
    "  'trekking',\n",
    "  'phost'\n",
    "]"
   ]
  },
  {
   "cell_type": "code",
   "execution_count": 138,
   "metadata": {},
   "outputs": [],
   "source": [
    "df_peaks = df_peaks[col_list]"
   ]
  },
  {
   "cell_type": "code",
   "execution_count": 139,
   "metadata": {},
   "outputs": [
    {
     "data": {
      "text/plain": [
       "(479, 7)"
      ]
     },
     "execution_count": 139,
     "metadata": {},
     "output_type": "execute_result"
    }
   ],
   "source": [
    "df_peaks.shape"
   ]
  },
  {
   "cell_type": "code",
   "execution_count": 140,
   "metadata": {},
   "outputs": [
    {
     "data": {
      "text/html": [
       "<div>\n",
       "<style scoped>\n",
       "    .dataframe tbody tr th:only-of-type {\n",
       "        vertical-align: middle;\n",
       "    }\n",
       "\n",
       "    .dataframe tbody tr th {\n",
       "        vertical-align: top;\n",
       "    }\n",
       "\n",
       "    .dataframe thead th {\n",
       "        text-align: right;\n",
       "    }\n",
       "</style>\n",
       "<table border=\"1\" class=\"dataframe\">\n",
       "  <thead>\n",
       "    <tr style=\"text-align: right;\">\n",
       "      <th></th>\n",
       "      <th>peakid</th>\n",
       "      <th>heightm</th>\n",
       "      <th>himal</th>\n",
       "      <th>region</th>\n",
       "      <th>trekking</th>\n",
       "      <th>restrict</th>\n",
       "      <th>phost</th>\n",
       "    </tr>\n",
       "  </thead>\n",
       "  <tbody>\n",
       "    <tr>\n",
       "      <th>0</th>\n",
       "      <td>AMAD</td>\n",
       "      <td>6814</td>\n",
       "      <td>12</td>\n",
       "      <td>2</td>\n",
       "      <td>False</td>\n",
       "      <td></td>\n",
       "      <td>1</td>\n",
       "    </tr>\n",
       "    <tr>\n",
       "      <th>1</th>\n",
       "      <td>AMPG</td>\n",
       "      <td>5630</td>\n",
       "      <td>12</td>\n",
       "      <td>2</td>\n",
       "      <td>False</td>\n",
       "      <td>Opened in 2002</td>\n",
       "      <td>1</td>\n",
       "    </tr>\n",
       "    <tr>\n",
       "      <th>2</th>\n",
       "      <td>ANN1</td>\n",
       "      <td>8091</td>\n",
       "      <td>1</td>\n",
       "      <td>5</td>\n",
       "      <td>False</td>\n",
       "      <td></td>\n",
       "      <td>1</td>\n",
       "    </tr>\n",
       "    <tr>\n",
       "      <th>3</th>\n",
       "      <td>ANN2</td>\n",
       "      <td>7937</td>\n",
       "      <td>1</td>\n",
       "      <td>5</td>\n",
       "      <td>False</td>\n",
       "      <td></td>\n",
       "      <td>1</td>\n",
       "    </tr>\n",
       "    <tr>\n",
       "      <th>4</th>\n",
       "      <td>ANN3</td>\n",
       "      <td>7555</td>\n",
       "      <td>1</td>\n",
       "      <td>5</td>\n",
       "      <td>False</td>\n",
       "      <td></td>\n",
       "      <td>1</td>\n",
       "    </tr>\n",
       "  </tbody>\n",
       "</table>\n",
       "</div>"
      ],
      "text/plain": [
       "  peakid  heightm  himal  region  trekking        restrict  phost\n",
       "0   AMAD     6814     12       2     False                      1\n",
       "1   AMPG     5630     12       2     False  Opened in 2002      1\n",
       "2   ANN1     8091      1       5     False                      1\n",
       "3   ANN2     7937      1       5     False                      1\n",
       "4   ANN3     7555      1       5     False                      1"
      ]
     },
     "execution_count": 140,
     "metadata": {},
     "output_type": "execute_result"
    }
   ],
   "source": [
    "df_peaks.head()"
   ]
  },
  {
   "cell_type": "code",
   "execution_count": 141,
   "metadata": {},
   "outputs": [
    {
     "data": {
      "text/plain": [
       "array(['', 'Opened in 2002', 'Requires permit for Annapurna I',\n",
       "       'Opened in 2014', 'Converted to trekking peak in 2002',\n",
       "       \"One permit for Churen Himal's three summits\",\n",
       "       'Peak entirely within China', 'Opened in 2003', 'Opened in 1997',\n",
       "       'Requires permit for Gimmigela Chuli', 'Opened in 2013?',\n",
       "       \"One permit for Kanjiroba's north and south summits\", 'Closed',\n",
       "       'Opened in 2014 as Tenzing Peak',\n",
       "       'Opened in 2002 as trekking peak',\n",
       "       'Opened in 1997; converted to trekking peak in 2002',\n",
       "       'Opened in 2001', 'Requires permit for Nuptse',\n",
       "       'Opened in 2002, delisted in 2013?', 'Requires permit for Amphu I',\n",
       "       'Delisted in 2014', 'Opened in 2014 (as Khang Karpo)',\n",
       "       'Requires permit for Jobo Rinjang',\n",
       "       'Requires permit for Lachama Chuli',\n",
       "       'Opened in 2014 as Hillary Peak', 'Opened in 2016',\n",
       "       'Requires Jannu permit', 'Opened in 2023'], dtype=object)"
      ]
     },
     "execution_count": 141,
     "metadata": {},
     "output_type": "execute_result"
    }
   ],
   "source": [
    "df_peaks.restrict.unique()"
   ]
  },
  {
   "cell_type": "code",
   "execution_count": null,
   "metadata": {},
   "outputs": [],
   "source": []
  }
 ],
 "metadata": {
  "kernelspec": {
   "display_name": ".env",
   "language": "python",
   "name": "python3"
  },
  "language_info": {
   "codemirror_mode": {
    "name": "ipython",
    "version": 3
   },
   "file_extension": ".py",
   "mimetype": "text/x-python",
   "name": "python",
   "nbconvert_exporter": "python",
   "pygments_lexer": "ipython3",
   "version": "3.9.6"
  }
 },
 "nbformat": 4,
 "nbformat_minor": 2
}
