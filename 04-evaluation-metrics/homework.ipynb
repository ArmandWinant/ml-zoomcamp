{
 "cells": [
  {
   "cell_type": "markdown",
   "metadata": {},
   "source": [
    "# 03 Evaluation: Homework"
   ]
  },
  {
   "cell_type": "code",
   "execution_count": 62,
   "metadata": {},
   "outputs": [],
   "source": [
    "import numpy as np\n",
    "import pandas as pd\n",
    "from sklearn.model_selection import train_test_split, KFold\n",
    "from sklearn.metrics import auc, roc_auc_score, roc_curve, RocCurveDisplay, precision_score, recall_score, f1_score\n",
    "from sklearn.feature_extraction import DictVectorizer\n",
    "from sklearn.linear_model import LogisticRegression\n",
    "import matplotlib.pyplot as plt"
   ]
  },
  {
   "cell_type": "code",
   "execution_count": 63,
   "metadata": {},
   "outputs": [],
   "source": [
    "import warnings\n",
    "warnings.filterwarnings(\"ignore\")"
   ]
  },
  {
   "cell_type": "markdown",
   "metadata": {},
   "source": [
    "## Data Import"
   ]
  },
  {
   "cell_type": "code",
   "execution_count": 64,
   "metadata": {},
   "outputs": [],
   "source": [
    "df = pd.read_csv('bank-full.csv', sep=\";\")"
   ]
  },
  {
   "cell_type": "code",
   "execution_count": 65,
   "metadata": {},
   "outputs": [],
   "source": [
    "col_list = [\n",
    "  'age',\n",
    "  'job',\n",
    "  'marital',\n",
    "  'education',\n",
    "  'balance',\n",
    "  'housing',\n",
    "  'contact',\n",
    "  'day',\n",
    "  'month',\n",
    "  'duration',\n",
    "  'campaign',\n",
    "  'pdays',\n",
    "  'previous',\n",
    "  'poutcome',\n",
    "  'y'\n",
    "]"
   ]
  },
  {
   "cell_type": "code",
   "execution_count": 66,
   "metadata": {},
   "outputs": [],
   "source": [
    "df = df[col_list]"
   ]
  },
  {
   "cell_type": "code",
   "execution_count": 67,
   "metadata": {},
   "outputs": [],
   "source": [
    "df.y = (df.y == 'yes').astype(int)"
   ]
  },
  {
   "cell_type": "markdown",
   "metadata": {},
   "source": [
    "## Data Preprocessing"
   ]
  },
  {
   "cell_type": "code",
   "execution_count": 68,
   "metadata": {},
   "outputs": [],
   "source": [
    "def split_dataset(df: pd.DataFrame, target_col: str, val_ratio: float = .2, test_ratio: float = .2, seed: int = 42):\n",
    "  df = df.copy()\n",
    "\n",
    "  relative_val_ratio = val_ratio / (1 - test_ratio)\n",
    "\n",
    "  df_train_full, df_test = train_test_split(df.drop(target_col, axis=1), test_size=test_ratio, random_state=seed)\n",
    "  df_train, df_val = train_test_split(df_train_full, test_size=relative_val_ratio, random_state=seed)\n",
    "\n",
    "  y_train_full = df.loc[df_train_full.index, target_col].reset_index(drop=True)\n",
    "  y_train = df.loc[df_train.index, target_col].reset_index(drop=True)\n",
    "  y_val = df.loc[df_val.index, target_col].reset_index(drop=True)\n",
    "  y_test = df.loc[df_test.index, target_col].reset_index(drop=True)\n",
    "\n",
    "  df_train.reset_index(drop=True, inplace=True)\n",
    "  df_val.reset_index(drop=True, inplace=True)\n",
    "  df_test.reset_index(drop=True, inplace=True)\n",
    "\n",
    "  return (df_train_full, y_train_full), (df_train, y_train), (df_val, y_val), (df_test, y_test)\n"
   ]
  },
  {
   "cell_type": "code",
   "execution_count": 69,
   "metadata": {},
   "outputs": [],
   "source": [
    "(df_train_full, y_train_full), (df_train, y_train), (df_val, y_val), (df_test, y_test) = split_dataset(df, 'y', seed=1)"
   ]
  },
  {
   "cell_type": "code",
   "execution_count": 70,
   "metadata": {},
   "outputs": [
    {
     "name": "stdout",
     "output_type": "stream",
     "text": [
      "27126 27126\n",
      "9042 9042\n",
      "9043 9043\n"
     ]
    }
   ],
   "source": [
    "print(df_train.shape[0], y_train.shape[0])\n",
    "print(df_val.shape[0], y_val.shape[0])\n",
    "print(df_test.shape[0], y_test.shape[0])"
   ]
  },
  {
   "cell_type": "markdown",
   "metadata": {},
   "source": [
    "## Feature Importance"
   ]
  },
  {
   "cell_type": "code",
   "execution_count": 71,
   "metadata": {},
   "outputs": [],
   "source": [
    "num_cols = df_train.select_dtypes('number')\n",
    "cat_cols = df_train.select_dtypes(exclude='number')"
   ]
  },
  {
   "cell_type": "code",
   "execution_count": 72,
   "metadata": {},
   "outputs": [
    {
     "data": {
      "text/plain": [
       "(27126,)"
      ]
     },
     "execution_count": 72,
     "metadata": {},
     "output_type": "execute_result"
    }
   ],
   "source": [
    "y_train.shape"
   ]
  },
  {
   "cell_type": "code",
   "execution_count": 73,
   "metadata": {},
   "outputs": [
    {
     "name": "stdout",
     "output_type": "stream",
     "text": [
      "age 23.5\n",
      "balance 24754.5\n",
      "day 4.0\n",
      "duration 2414.0\n",
      "campaign 2.0\n",
      "pdays 283.0\n",
      "previous 4.5\n"
     ]
    }
   ],
   "source": [
    "for num_col in num_cols:\n",
    "  sorted_index = df_train.sort_values(num_col).index\n",
    "  auc_score = auc(df_train.loc[sorted_index, num_col], y_train.iloc[sorted_index].values)\n",
    "\n",
    "  print(num_col, round(auc_score, 2))"
   ]
  },
  {
   "cell_type": "markdown",
   "metadata": {},
   "source": [
    "## Model Training"
   ]
  },
  {
   "cell_type": "code",
   "execution_count": 74,
   "metadata": {},
   "outputs": [],
   "source": [
    "def encode_vars(df: pd.DataFrame, dv: DictVectorizer = None):\n",
    "  df_dicts = df.to_dict(orient='records')\n",
    "\n",
    "  if not dv:\n",
    "    dv = DictVectorizer(sparse=False)\n",
    "    dv.fit(df_dicts)\n",
    "  \n",
    "  df_encoded = pd.DataFrame(\n",
    "    data=dv.transform(df_dicts),\n",
    "    columns=dv.get_feature_names_out()\n",
    "  )\n",
    "\n",
    "  return df_encoded, dv"
   ]
  },
  {
   "cell_type": "code",
   "execution_count": 75,
   "metadata": {},
   "outputs": [],
   "source": [
    "X_train, dv = encode_vars(df_train)\n",
    "X_val, _ = encode_vars(df_val, dv)\n",
    "X_test, _ = encode_vars(df_test, dv)"
   ]
  },
  {
   "cell_type": "code",
   "execution_count": 76,
   "metadata": {},
   "outputs": [],
   "source": [
    "model = LogisticRegression(solver='liblinear', C=1.0, max_iter=1000)\n",
    "model.fit(X_train, y_train)\n",
    "\n",
    "y_pred = model.predict_proba(X_val)[:,1]"
   ]
  },
  {
   "cell_type": "markdown",
   "metadata": {},
   "source": [
    "## Model Evaluation\n",
    "### ROC AUC"
   ]
  },
  {
   "cell_type": "code",
   "execution_count": 77,
   "metadata": {},
   "outputs": [
    {
     "data": {
      "image/png": "[encoded data removed]",
      "text/plain": [
       "<Figure size 640x480 with 1 Axes>"
      ]
     },
     "metadata": {},
     "output_type": "display_data"
    }
   ],
   "source": [
    "fpr, tpr, thresholds = roc_curve(y_val, y_pred)\n",
    "display = RocCurveDisplay.from_predictions(\n",
    "  y_val,\n",
    "  y_pred,\n",
    "  color=\"darkorange\",\n",
    "  plot_chance_level=True,)"
   ]
  },
  {
   "cell_type": "code",
   "execution_count": 78,
   "metadata": {},
   "outputs": [
    {
     "data": {
      "text/plain": [
       "0.9003530175710851"
      ]
     },
     "execution_count": 78,
     "metadata": {},
     "output_type": "execute_result"
    }
   ],
   "source": [
    "auc(fpr, tpr)"
   ]
  },
  {
   "cell_type": "code",
   "execution_count": 79,
   "metadata": {},
   "outputs": [
    {
     "data": {
      "text/plain": [
       "0.9003530175710851"
      ]
     },
     "execution_count": 79,
     "metadata": {},
     "output_type": "execute_result"
    }
   ],
   "source": [
    "roc_auc_score(y_val, y_pred)"
   ]
  },
  {
   "cell_type": "markdown",
   "metadata": {},
   "source": [
    "### Precision & Recall"
   ]
  },
  {
   "cell_type": "code",
   "execution_count": 80,
   "metadata": {},
   "outputs": [],
   "source": [
    "def precision_recall_df(y_true, y_pred):\n",
    "  thresholds = np.linspace(0, 1, 101)\n",
    "\n",
    "  scores = []\n",
    "\n",
    "  for t in thresholds:\n",
    "    recall = recall_score(y_true, y_pred >= t)\n",
    "    precision = precision_score(y_true, y_pred >= t)\n",
    "    f1 = f1_score(y_true, y_pred >= t)\n",
    "\n",
    "    scores.append((t, recall, precision, f1))\n",
    "  \n",
    "  df_scores = pd.DataFrame(scores, columns=['threshold', 'precision', 'recall', 'f1_score'])\n",
    "\n",
    "  return df_scores"
   ]
  },
  {
   "cell_type": "code",
   "execution_count": 81,
   "metadata": {},
   "outputs": [],
   "source": [
    "def plot_precision_recall(df: pd.DataFrame):\n",
    "  plt.plot(df.threshold, df.precision, label='precision')\n",
    "  plt.plot(df.threshold, df.recall, label='recall')\n",
    "\n",
    "  plt.title('Precision & Recall by Threshold')\n",
    "  plt.xlabel('Threshold')\n",
    "  plt.ylabel('Precision/Recall')\n",
    "\n",
    "  plt.legend()\n",
    "  plt.show()"
   ]
  },
  {
   "cell_type": "code",
   "execution_count": 82,
   "metadata": {},
   "outputs": [],
   "source": [
    "df_scores = precision_recall_df(y_val, y_pred)"
   ]
  },
  {
   "cell_type": "code",
   "execution_count": 83,
   "metadata": {},
   "outputs": [
    {
     "data": {
      "image/png": "[encoded data removed]",
      "text/plain": [
       "<Figure size 640x480 with 1 Axes>"
      ]
     },
     "metadata": {},
     "output_type": "display_data"
    }
   ],
   "source": [
    "plot_precision_recall(df=df_scores)"
   ]
  },
  {
   "cell_type": "code",
   "execution_count": 84,
   "metadata": {},
   "outputs": [
    {
     "data": {
      "text/plain": [
       "22    0.22\n",
       "Name: threshold, dtype: float64"
      ]
     },
     "execution_count": 84,
     "metadata": {},
     "output_type": "execute_result"
    }
   ],
   "source": [
    "df_scores.loc[df_scores.f1_score == df_scores.f1_score.max(), 'threshold']"
   ]
  },
  {
   "cell_type": "markdown",
   "metadata": {},
   "source": [
    "## Cross-Validation"
   ]
  },
  {
   "cell_type": "code",
   "execution_count": 85,
   "metadata": {},
   "outputs": [],
   "source": [
    "def train(df:pd.DataFrame, y_train: np.array, C=1.0):\n",
    "  X_train, dv = encode_vars(df)\n",
    "  model = LogisticRegression(solver='liblinear', C=C, max_iter=1000)\n",
    "  model.fit(X_train, y_train)\n",
    "\n",
    "  return dv, model"
   ]
  },
  {
   "cell_type": "code",
   "execution_count": 86,
   "metadata": {},
   "outputs": [],
   "source": [
    "def predict(df: pd.DataFrame, dv, model):\n",
    "  X, _ = encode_vars(df, dv)\n",
    "  y_pred = model.predict_proba(X)[:, 1]\n",
    "\n",
    "  return y_pred"
   ]
  },
  {
   "cell_type": "code",
   "execution_count": 87,
   "metadata": {},
   "outputs": [],
   "source": [
    "kfold = KFold(n_splits=5, shuffle=True, random_state=1)"
   ]
  },
  {
   "cell_type": "code",
   "execution_count": 88,
   "metadata": {},
   "outputs": [],
   "source": [
    "scores = []\n",
    "\n",
    "for train_idx, val_idx in kfold.split(df_train_full):\n",
    "    df_train = df_train_full.iloc[train_idx, :]\n",
    "    df_val = df_train_full.iloc[val_idx, :]\n",
    "\n",
    "    y_train = y_train_full.iloc[train_idx]\n",
    "    y_val = y_train_full.iloc[val_idx]\n",
    "\n",
    "    dv, model = train(df_train, y_train)\n",
    "    y_pred = predict(df_val, dv, model)\n",
    "\n",
    "    auc_score = roc_auc_score(y_val, y_pred)\n",
    "    scores.append(auc_score)\n",
    "    "
   ]
  },
  {
   "cell_type": "code",
   "execution_count": 89,
   "metadata": {},
   "outputs": [
    {
     "data": {
      "text/plain": [
       "0.005663554526910946"
      ]
     },
     "execution_count": 89,
     "metadata": {},
     "output_type": "execute_result"
    }
   ],
   "source": [
    "np.std(scores)"
   ]
  },
  {
   "cell_type": "markdown",
   "metadata": {},
   "source": [
    "## Parameter Tuning"
   ]
  },
  {
   "cell_type": "code",
   "execution_count": 90,
   "metadata": {},
   "outputs": [],
   "source": [
    "C_vals = [0.000001, 0.001, 1]"
   ]
  },
  {
   "cell_type": "code",
   "execution_count": 91,
   "metadata": {},
   "outputs": [
    {
     "name": "stdout",
     "output_type": "stream",
     "text": [
      "C=1e-06 | AUC average=0.701 | AUC std=0.009\n",
      "C=0.001 | AUC average=0.861 | AUC std=0.007\n",
      "C=1 | AUC average=0.906 | AUC std=0.006\n"
     ]
    }
   ],
   "source": [
    "for C_val in C_vals:\n",
    "  kfold = KFold(n_splits=5, shuffle=True, random_state=1)\n",
    "\n",
    "  scores = []\n",
    "\n",
    "  for train_idx, val_idx in kfold.split(df_train_full):\n",
    "    df_train = df_train_full.iloc[train_idx, :]\n",
    "    df_val = df_train_full.iloc[val_idx, :]\n",
    "\n",
    "    y_train = y_train_full.iloc[train_idx]\n",
    "    y_val = y_train_full.iloc[val_idx]\n",
    "\n",
    "    dv, model = train(df_train, y_train, C=C_val)\n",
    "    y_pred = predict(df_val, dv, model)\n",
    "\n",
    "    auc_score = roc_auc_score(y_val, y_pred)\n",
    "    scores.append(auc_score)\n",
    "  print(f'C={C_val} | AUC average={round(np.mean(scores), 3)} | AUC std={round(np.std(scores), 3)}')\n",
    "    "
   ]
  }
 ],
 "metadata": {
  "kernelspec": {
   "display_name": ".env",
   "language": "python",
   "name": "python3"
  },
  "language_info": {
   "codemirror_mode": {
    "name": "ipython",
    "version": 3
   },
   "file_extension": ".py",
   "mimetype": "text/x-python",
   "name": "python",
   "nbconvert_exporter": "python",
   "pygments_lexer": "ipython3",
   "version": "3.9.6"
  }
 },
 "nbformat": 4,
 "nbformat_minor": 2
}
